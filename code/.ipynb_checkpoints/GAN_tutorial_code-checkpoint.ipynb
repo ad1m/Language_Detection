{
 "cells": [
  {
   "cell_type": "markdown",
   "metadata": {},
   "source": [
    "<center><h1><font color='orange'>Generating Synthetic Faces Using Generative Adversarial Networks</font></h1></center>\n",
    "<center><h3>By: Adam Lieberman</h3></center>\n",
    "<br>\n",
    "<br>\n",
    "<h4>Introduction:</h4>\n",
    "<p>Generative Adversarial Networks (GANs) can be used to generate synthetic input data. Here, two neural networks compete against each other in a zero-sum game framework. The generator generates synthetic input from a particular distribution of interest while the discriminator simultaneously tries to discriminate between the synthesized instances and the isntances from the true data distribution. Each network controls each others loss function, i.e. the generator's training objective is to increase the error rate of the discriminator network. This means that the generator is trying to trick the discriminator into producing new synthetic instances that appear to have come from the true data distribution. In this lesson, we will use a generative adversarial network to construct synthetic facial images.</p>\n",
    "<br>\n",
    "<h4>Library Imports:</h4>\n",
    "<p>We start by importing the following libraries:</p>"
   ]
  },
  {
   "cell_type": "code",
   "execution_count": 1,
   "metadata": {
    "collapsed": true
   },
   "outputs": [],
   "source": [
    "import tensorflow as tf\n",
    "import numpy as np\n",
    "import matplotlib.pyplot as plt\n",
    "import tensorflow.contrib.slim as slim\n",
    "import os\n",
    "import scipy.misc\n",
    "import scipy\n",
    "from sklearn.datasets import fetch_lfw_people\n",
    "from PIL import Image\n",
    "from matplotlib import pyplot as plt\n",
    "from matplotlib.pyplot import imshow\n",
    "import random\n",
    "from IPython import display"
   ]
  },
  {
   "cell_type": "markdown",
   "metadata": {},
   "source": [
    "<h4>Data:</h4>\n",
    "<p>We will be using the Labeled Faces in the Wild (LFW) database. This consists of more than 13,000 images of faces collected from the web. Additionally, each face comes with a label representing the name of the person pictured. To learn more about and download the dataset please refer to this <a href=\"http://vis-www.cs.umass.edu/lfw/\">link</a>. This data is also available through sklearn using the fetch_lfw_people function. Just like the MNIST data, we can use sklearn to download the dataset. We can specify a slice to extract a facial image and resize the each of the images to our desired shape. Let us create a class for our data called Data_Set. This will make our data easy to load in and easy to use when we want to train our generative adversarial network. Inside the class we have the number of samples in the dataset, the normalized images, the number of epochs we have completed and the index in each epoch. We can create some getters and setters for these and then write a batch_next function. Additionally, We will use this function when we train our model. The class is as follows: </p>"
   ]
  },
  {
   "cell_type": "code",
   "execution_count": 2,
   "metadata": {
    "collapsed": false
   },
   "outputs": [],
   "source": [
    "class Data_Set(object):\n",
    "    \n",
    "    #Parameter Initialization\n",
    "    def __init__(self, images):\n",
    "        self.num_examples = images.shape[0]\n",
    "        self.images = np.multiply(images.astype(np.float32), 1.0 / 255.0)\n",
    "        self.epochs_completed = 0\n",
    "        self.index_in_epoch = 0\n",
    "        \n",
    "    #Getters/Setters for our class\n",
    "    def images(self):\n",
    "        return self.images\n",
    "    \n",
    "    def num_examples(self):\n",
    "        return self.num_examples\n",
    "  \n",
    "    def epochs_completed(self):\n",
    "        return self.epochs_completed\n",
    "\n",
    "    #Return the next batch, used in model training\n",
    "    def batch_next(self, batch_size):\n",
    "        start = self.index_in_epoch\n",
    "        self.index_in_epoch += batch_size\n",
    "        if self.index_in_epoch > self.num_examples:\n",
    "            self.epochs_completed += 1\n",
    "            perm = np.arange(self.num_examples)\n",
    "            np.random.shuffle(perm)\n",
    "            self.images = self.images[perm]\n",
    "            start = 0\n",
    "            self.index_in_epoch = batch_size\n",
    "        end = self.index_in_epoch\n",
    "        return self.images[start:end], None"
   ]
  },
  {
   "cell_type": "markdown",
   "metadata": {},
   "source": [
    "<p>Let us now write a function that will use sklearn to pull our facial data and construct it as a Data_Sets object where the data inside is a Data_Set object, which will give us access to the methods we created above. Inside our function we resize the facial images to 28 x 28 and slice the images so that we have the faces of the people in the images. We create our function as follows:</p>"
   ]
  },
  {
   "cell_type": "code",
   "execution_count": 3,
   "metadata": {
    "collapsed": true
   },
   "outputs": [],
   "source": [
    "def pull_data():\n",
    "    class Data_Sets(object):\n",
    "        pass\n",
    "    data_sets = Data_Sets()\n",
    "    \n",
    "    #Get LFW people data and resize it to 28 x 28, slice for faces \n",
    "    lfw_people = fetch_lfw_people(slice_=(slice(70, 195, None), slice(70, 195, None)), resize=0.224) \n",
    "    \n",
    "    #Create Data_Set object\n",
    "    d = lfw_people.data\n",
    "    data_sets.train = Data_Set(d)\n",
    "    return data_sets"
   ]
  },
  {
   "cell_type": "markdown",
   "metadata": {},
   "source": [
    "<p>Let us now use the above function to obtain our facial data:</p>"
   ]
  },
  {
   "cell_type": "code",
   "execution_count": 4,
   "metadata": {
    "collapsed": false
   },
   "outputs": [
    {
     "name": "stdout",
     "output_type": "stream",
     "text": [
      "(13233, 784)\n"
     ]
    }
   ],
   "source": [
    "data = pull_data()\n",
    "print(data.train.images.shape)"
   ]
  },
  {
   "cell_type": "markdown",
   "metadata": {},
   "source": [
    "<p>We see that we have 13,233 samples of images and that each sample is a flattened 28 x 28 vector. Now that we have our data, let us see what a sample of it looks like. To do so we write a function called display_images which takes in our data and some indices we want to display from the data. Here we use data.train.images to obtain an ndarray of normalized image values. We loop over our indices and look at the image inside our data.train.images of that particular index and unnormalize it. We also reshape it into a 28 x 28 image and then use the python library PIL to show the image. We do this for every image in the list of indices we specify. Our function is as follows:</p>"
   ]
  },
  {
   "cell_type": "code",
   "execution_count": 5,
   "metadata": {
    "collapsed": false
   },
   "outputs": [
    {
     "data": {
      "image/png": "[encoded data removed]",
      "text/plain": [
       "<matplotlib.figure.Figure at 0x114a5b208>"
      ]
     },
     "metadata": {},
     "output_type": "display_data"
    },
    {
     "data": {
      "image/png": "[encoded data removed]",
      "text/plain": [
       "<matplotlib.figure.Figure at 0x11736f240>"
      ]
     },
     "metadata": {},
     "output_type": "display_data"
    },
    {
     "data": {
      "image/png": "[encoded data removed]",
      "text/plain": [
       "<matplotlib.figure.Figure at 0x1173f04e0>"
      ]
     },
     "metadata": {},
     "output_type": "display_data"
    }
   ],
   "source": [
    "#Display images from our data \n",
    "def display_images(data,indices): \n",
    "    \n",
    "    #Obtain the images inside data \n",
    "    im_data = data.train.images\n",
    "    \n",
    "    for i in range(len(indices)):\n",
    "        \n",
    "        #Set image sizing\n",
    "        %matplotlib inline\n",
    "        plt.figure(figsize=(1,1))\n",
    "        \n",
    "        #Unnormalize the image and reshape it\n",
    "        im = Image.fromarray(np.multiply(im_data[indices[i]],255.0).reshape(28,28))\n",
    "        \n",
    "        #Show the image \n",
    "        p = plt.imshow(im)\n",
    "        plt.show(p)\n",
    "\n",
    "display_images(data,[4,45,599])"
   ]
  },
  {
   "cell_type": "markdown",
   "metadata": {},
   "source": [
    "<h4>Deep Convolutional Generative Adversarial Networks:</h4>\n",
    "<p>In 2016 Alec Radford, Luke Metz, and Soumith Chintala published <a href=\"https://arxiv.org/pdf/1511.06434.pdf\">Unsupervised Representation Learning With Deep Convolutional\n",
    "Generative Adversarial Networks</a>. In computer vision tasks, convolutional networks and supervised learning has had great success and popularity. However, unsupervised learning with convolutional neural networks has recieved less attention. Deep Convolutional Generative Adversarial Networks (DCGANs) demonstrate that they are a strong candidate for unsupervised learning. The generator/discriminator pair learns a hierarchy of representations from object parts to scenes in both the generator and discriminator. Since we are working with facial image data, implementing a DCGAN is a great choice. The architecture from the paper is as follows:</p>\n",
    "<ul>\n",
    "<li>Replace any pooling layers with strided convolutions (discriminator) and fractional-strided convolutions (generator)</li>\n",
    "<li>Use batchnorm in both the generator and the discriminator</li>\n",
    "<li>Remove fully connected hidden layers for deeper architectures</li>\n",
    "<li>Use ReLU activation in generator for all layers except for the output, which uses Tanh</li>\n",
    "<li>Use LeakyReLU activation in the discriminator for all layers</li>\n",
    "</ul>\n",
    "<p>To build our DCGAN, we will use TensorFlow-Slim. This will allow us to build a complex network while keeping the model's architecure transparent.</p>"
   ]
  },
  {
   "cell_type": "markdown",
   "metadata": {},
   "source": [
    "<h4>LeakyReLU layer:</h4>\n",
    "<p>When we use GANs we want to avoid sparse gradients to prevent suffering in terms of GAN stability. This means we should stear clear from ReLU and MaxPool. Instead we can use a LeakyReLU layer. Let us create one that we will call in our discriminator as noted in the DCGAN architecture above. We build it as follows:</p>"
   ]
  },
  {
   "cell_type": "code",
   "execution_count": 6,
   "metadata": {
    "collapsed": true
   },
   "outputs": [],
   "source": [
    "#Create a LeakyReLU\n",
    "def lrelu(x, leak=0.2, name=\"lrelu\"):\n",
    "    with tf.variable_scope(name):\n",
    "        f1 = 0.5 * (1 + leak)\n",
    "        f2 = 0.5 * (1 - leak)\n",
    "        return f1 * x + f2 * abs(x)"
   ]
  },
  {
   "cell_type": "markdown",
   "metadata": {},
   "source": [
    "<h4>Generator:</h4>\n",
    "<p>Let us now use tensorflow and create our generator network. Our architecture will take form similar to the following:</p>\n",
    "<img src=\"gen.png\" style=\"width: 600px; height:300px\">\n",
    "<p>Above we see that we have our z input (uniformly distributed random numbers). We will create four deconvolutional layers. Each layer will have batch normalization. The first three layers will use the rectified linear unit (RELU) activation function, while the fourth deconvolutional layer will use the tanh activation function as specified in the paper. We will then output an image G(z). Our architecure for the generator will look as follows:</p>\n",
    "<ul>\n",
    "<li>Fully Connected Layer</li>\n",
    "<li>Reshape</li>\n",
    "<li>Deconvolutional Layer 1 - batch normalization, relu activation</li>\n",
    "<li>Deconvolutional Layer 2 - batch normalization, relu activation</li>\n",
    "<li>Deconvolutional Layer 3 - batch normalization, relu activation</li>\n",
    "<li>Deconvolutional Layer 4 - batch normalization, tanh activation</li>\n",
    "</ul>\n",
    "<p>All in all, our generator will take in a vector consisting of random numbers from a uniform distribution, pass through four fractionally-strided convolutions (called deconvolutions), and then outputted into an image with shape 32 x 32. We construct these layers in our generator as follows:</p>"
   ]
  },
  {
   "cell_type": "code",
   "execution_count": 7,
   "metadata": {
    "collapsed": true
   },
   "outputs": [],
   "source": [
    "def generator(z_shp):\n",
    "    \n",
    "    #Commonly Used Variables\n",
    "    PADDING = \"SAME\"\n",
    "    STRIDE = [2,2]\n",
    "    \n",
    "    #Our first dense (fully connected) layer\n",
    "    g1_dense = slim.fully_connected(z_shp,4*4*256,normalizer_fn=slim.batch_norm,\\\n",
    "        activation_fn=tf.nn.relu,scope='g1_dense',weights_initializer=initializer)\n",
    "    \n",
    "    #Reshape\n",
    "    g1_dense_reshape = tf.reshape(g1_dense,[-1,4,4,256])\n",
    "    \n",
    "    #Dconv Layer 1, batch normalization, relu activation\n",
    "    g2_dconv = slim.convolution2d_transpose(\\\n",
    "        g1_dense_reshape,num_outputs=64,kernel_size=[5,5],stride=STRIDE,\\\n",
    "        padding=PADDING,normalizer_fn=slim.batch_norm,\\\n",
    "        activation_fn=tf.nn.relu,scope='g2_dconv', weights_initializer=initializer)\n",
    "    \n",
    "    #Dconv Layer 2, batch normalization, relu activation\n",
    "    g3_dconv = slim.convolution2d_transpose(\\\n",
    "        g2_dconv,num_outputs=32,kernel_size=[5,5],stride=STRIDE,\\\n",
    "        padding=PADDING,normalizer_fn=slim.batch_norm,\\\n",
    "        activation_fn=tf.nn.relu,scope='g3_dconv', weights_initializer=initializer)\n",
    "    \n",
    "    #Dconv Layer 3, batch normalization, relu activation\n",
    "    g4_dconv = slim.convolution2d_transpose(\\\n",
    "        g3_dconv,num_outputs=16,kernel_size=[5,5],stride=STRIDE,\\\n",
    "        padding=PADDING,normalizer_fn=slim.batch_norm,\\\n",
    "        activation_fn=tf.nn.relu,scope='g4_dconv', weights_initializer=initializer)\n",
    "    \n",
    "    #Dconv Layer 4, batch normalization, tanh activation\n",
    "    g5_dconv = slim.convolution2d_transpose(\\\n",
    "        g4_dconv,num_outputs=1,kernel_size=[32,32],padding=PADDING,\\\n",
    "        biases_initializer=None,activation_fn=tf.nn.tanh,\\\n",
    "        scope='g5_dconv', weights_initializer=initializer)\n",
    "    \n",
    "    return g5_dconv"
   ]
  },
  {
   "cell_type": "markdown",
   "metadata": {},
   "source": [
    "<p>We have now created our generator. Let us move on to creating our discriminator.</p>"
   ]
  },
  {
   "cell_type": "markdown",
   "metadata": {},
   "source": [
    "<h4>Discriminator:</h4>\n",
    "<p>Now that we have a generator to generate synthetic images we need to build our discriminator. Our completed model will have the following architecture:</p>\n",
    "<img src=\"disc.png\" style=\"width: 600px; height:300px\">\n",
    "<p>Our discriminator will have the following architecture:</p>\n",
    "<ul>\n",
    "<li>Convolutional Layer 1 - leaky relu activation</li>\n",
    "<li>Convolutional Layer 2 - leaky relu activation</li>\n",
    "<li>Convolutional Layer 3 - leaky relu activation</li>\n",
    "<li>Fully Connected Layer  - Sigmoid activation</li>\n",
    "</ul>\n",
    "<p>Here we will input a 32 x 32 image and pass it through a few convolutional layers. It will then be iutputted into a single valued probability representing whether it is a \"real\" image or a \"fake\" image. We create the discriminator as follows:</p>"
   ]
  },
  {
   "cell_type": "code",
   "execution_count": 8,
   "metadata": {
    "collapsed": true
   },
   "outputs": [],
   "source": [
    "def discriminator(bottom, reuse=False):\n",
    "    PADDING = \"SAME\"\n",
    "    STRIDE = [2,2]\n",
    "    \n",
    "    #Conv Layer 1, No batch normalization, leaky relu activation\n",
    "    d1_conv = slim.convolution2d(bottom,16,[4,4],stride=STRIDE,padding=PADDING,\\\n",
    "        biases_initializer=None,activation_fn=lrelu,\\\n",
    "        reuse=reuse,scope='d1_conv',weights_initializer=initializer)\n",
    "    \n",
    "    #Conv Layer 2, batch normalization, leaky relu activation\n",
    "    d2_conv = slim.convolution2d(d1_conv,32,[4,4],stride=STRIDE,padding=PADDING,\\\n",
    "        normalizer_fn=slim.batch_norm,activation_fn=lrelu,\\\n",
    "        reuse=reuse,scope='d2_conv', weights_initializer=initializer)\n",
    "    \n",
    "    #Conv Layer 3, batch normalization, leaky relu activation\n",
    "    d3_conv = slim.convolution2d(d2_conv,64,[4,4],stride=STRIDE,padding=PADDING,\\\n",
    "        normalizer_fn=slim.batch_norm,activation_fn=lrelu,\\\n",
    "        reuse=reuse,scope='d3_conv',weights_initializer=initializer)\n",
    "    \n",
    "    #Dense Layer (Fully connected), sigmoid activation\n",
    "    d4_dense = slim.fully_connected(slim.flatten(d3_conv),1,activation_fn=tf.nn.sigmoid,\\\n",
    "        reuse=reuse,scope='d4_output', weights_initializer=initializer)\n",
    "    \n",
    "    return d4_dense"
   ]
  },
  {
   "cell_type": "markdown",
   "metadata": {},
   "source": [
    "<h4>Model Creation:</h4>\n",
    "<p>Now that we have our generator and discriminator we can now create our deep convolutional generative adversarial network (DCGAN). We will create a variable called z_size which will be the size of the z vector used for our generator. We will initialize all weights for our network. We do so here because we want to initialize the same weights. If we pass this into each weights_initializer parameter in our tf.slim code above we might be assigned different weights. We then create input for the generator and discriminator, and create the images for the random vectors and probabilites for the real images. We can then create the optimization objective and then apply gradient descent.   </p>"
   ]
  },
  {
   "cell_type": "code",
   "execution_count": 11,
   "metadata": {
    "collapsed": false
   },
   "outputs": [],
   "source": [
    "tf.reset_default_graph()\n",
    "\n",
    "z_size = 100\n",
    "\n",
    "#Initialize Network weights \n",
    "initializer = tf.truncated_normal_initializer(stddev=0.02)\n",
    "\n",
    "#Input for Generator \n",
    "z_in = tf.placeholder(shape=[None,z_size],dtype=tf.float32) \n",
    "\n",
    "#Input for Discriminator\n",
    "real_in = tf.placeholder(shape=[None,32,32,1],dtype=tf.float32)\n",
    "\n",
    "#Creating Images for ranom vectors of size z_in\n",
    "Gz = generator(z_in)\n",
    "\n",
    "#Probabilities for real images\n",
    "Dx = discriminator(real_in)\n",
    "\n",
    "#Probabilities for generator images\n",
    "Dg = discriminator(Gz,reuse=True)\n",
    "\n",
    "#Optimize the discriminator and the generator\n",
    "d_log1 = tf.log(Dx)\n",
    "d_log2 = tf.log(1.-Dg)\n",
    "g_log = tf.log(Dg)\n",
    "d_loss = -tf.reduce_mean(d_log1 + d_log2) \n",
    "g_loss = -tf.reduce_mean(g_log) \n",
    "\n",
    "tvars = tf.trainable_variables()\n",
    "\n",
    "#Use the Adam Optimizers for discriminator and generator \n",
    "LR = 0.0002\n",
    "BTA = 0.5\n",
    "trainerD = tf.train.AdamOptimizer(learning_rate=LR,beta1=BTA)\n",
    "trainerG = tf.train.AdamOptimizer(learning_rate=LR,beta1=BTA)\n",
    "\n",
    "#Gradients for discriminator and generator\n",
    "gradients_discriminator = trainerD.compute_gradients(d_loss,tvars[9:]) \n",
    "gradients_generator = trainerG.compute_gradients(g_loss,tvars[0:9]) \n",
    "\n",
    "#Apply the gradients\n",
    "update_D = trainerD.apply_gradients(gradients_discriminator)\n",
    "update_G = trainerG.apply_gradients(gradients_generator)"
   ]
  },
  {
   "cell_type": "markdown",
   "metadata": {},
   "source": [
    "<h4>Save Generated Images:</h4>\n",
    "<p>Our GAN will create synthetic images during training. Let us now write a function to save our generated images. Here we will take in a vector of images, a size, and a path to save them. This will return us a block of images (6 x 6) so we can see how our model improves over time.We do so as follows:</p>"
   ]
  },
  {
   "cell_type": "code",
   "execution_count": 12,
   "metadata": {
    "collapsed": true
   },
   "outputs": [],
   "source": [
    "def save_generated_images(images,size,image_path): \n",
    "    images = (images+1.)/2.\n",
    "    height = images.shape[1]\n",
    "    width = images.shape[2]\n",
    "    img = np.zeros((height * size[0], width * size[1]))\n",
    "    for idx, image in enumerate(images):\n",
    "        a = idx % size[1]\n",
    "        b = idx // size[1]\n",
    "        img[b*height:b*height+height, a*width:a*width+width] = image\n",
    "    sve = scipy.misc.imsave(image_path,img)\n",
    "    return sve"
   ]
  },
  {
   "cell_type": "markdown",
   "metadata": {},
   "source": [
    "<h4>Network Training:</h4>\n",
    "<p>Let us now train our network on our machine, a retina macbook pro with 8gb of ram. Since we are not using a GPU right now (we will do so in the next section), we will use 5000 iterations and a batch_size of 128. Here, we will choose a sample batch from our facial image data and shape it into a 32 x 32 image. We will then generate a random batch, z, and update the generator and discriminator. Every 15 iterations we will calculate our loss for both the generator and discriminator and plot them on an updating plot. We will also save some sample generated images from the generator at this stage. Every 1000 iterations we will save our model. We train our model as follows:</p>"
   ]
  },
  {
   "cell_type": "code",
   "execution_count": 15,
   "metadata": {
    "collapsed": false
   },
   "outputs": [
    {
     "data": {
      "image/png": "[encoded data removed]",
      "text/plain": [
       "<matplotlib.figure.Figure at 0x11f52e208>"
      ]
     },
     "metadata": {},
     "output_type": "display_data"
    },
    {
     "name": "stdout",
     "output_type": "stream",
     "text": [
      "Progress:  4996 / 5000\n",
      "Progress:  4997 / 5000\n",
      "Progress:  4998 / 5000\n",
      "Progress:  4999 / 5000\n"
     ]
    },
    {
     "data": {
      "image/png": "[encoded data removed]",
      "text/plain": [
       "<matplotlib.figure.Figure at 0x11f52e208>"
      ]
     },
     "metadata": {},
     "output_type": "display_data"
    }
   ],
   "source": [
    "#size setups\n",
    "batch_size = 128\n",
    "iterations = 5000 \n",
    "\n",
    "#tf setup\n",
    "init = tf.global_variables_initializer()\n",
    "saver = tf.train.Saver()\n",
    "\n",
    "#plot setup\n",
    "plt_g = np.array([])\n",
    "plt_d = np.array([])\n",
    "plt_x = np.array([])\n",
    "\n",
    "with tf.Session() as sess:  \n",
    "    sess.run(init)\n",
    "    for i in range(iterations):\n",
    "        print(\"Progress: \",i,\"/\",iterations)\n",
    "    \n",
    "        #Choose sample batch from data \n",
    "        xs,xt = data.train.batch_next(batch_size)\n",
    "        \n",
    "        #Make sure our data is between (-1,1)\n",
    "        xs = np.lib.pad(((np.reshape(xs,[batch_size,28,28,1]) - 0.5) * 2.0),((0,0),(2,2),(2,2),(0,0)),'constant', constant_values=(-1, -1))\n",
    "        \n",
    "        #Updating Discriminator Once and Generator Twice\n",
    "        random_z_batch = np.random.uniform(-1.0,1.0,size=[batch_size,z_size]).astype(np.float32) #Generate a random z batch\n",
    "        _,dLoss = sess.run([update_D,d_loss],feed_dict={z_in:random_z_batch,real_in:xs}) \n",
    "        _,gLoss = sess.run([update_G,g_loss],feed_dict={z_in:random_z_batch}) \n",
    "        _,gLoss = sess.run([update_G,g_loss],feed_dict={z_in:random_z_batch})\n",
    "        \n",
    "\n",
    "        #Training Stats\n",
    "        if i % 15 == 0:\n",
    "            #Plot our generator loss and discriminator loss\n",
    "            print(\"Gen Loss: \" + str(gLoss) + \" Disc Loss: \" + str(dLoss))\n",
    "            plt_g = np.append(plt_g,float(gLoss))\n",
    "            plt_d = np.append(plt_d,float(dLoss))\n",
    "            plt_x = np.append(plt_x,i)\n",
    "            plt.gca().cla() \n",
    "            plt.plot(plt_x,plt_g,'r--',label='gen loss')\n",
    "            plt.plot(plt_x,plt_d,'g--',label='disc loss')\n",
    "            plt.xlabel('iteration')\n",
    "            plt.ylabel('loss')\n",
    "            plt.title('Loss vs iteration')\n",
    "            plt.legend()\n",
    "            display.clear_output(wait=True)\n",
    "            display.display(plt.gcf())       \n",
    "            \n",
    "            #Get sample images from the generator\n",
    "            z2 = np.random.uniform(-1.0,1.0,size=[batch_size,z_size]).astype(np.float32) \n",
    "            newZ = sess.run(Gz,feed_dict={z_in:z2})\n",
    "            \n",
    "            #Save our generated images \n",
    "            if not os.path.exists('./facial_figs'):\n",
    "                os.makedirs('./facial_figs')\n",
    "            save_generated_images(np.reshape(newZ[0:36],[36,32,32]),[6,6],'./facial_figs/fig'+str(i)+'.png')\n",
    "        \n",
    "        #Save our model every 1000 iterations\n",
    "        if i % 1000 == 0 and i != 0:\n",
    "            if not os.path.exists('./facial_models'):\n",
    "                os.makedirs('./facial_models')\n",
    "            saver.save(sess,'./facial_models/model-'+str(i)+'.cptk')\n",
    "            print(\"Saved Model\")"
   ]
  },
  {
   "cell_type": "markdown",
   "metadata": {},
   "source": [
    "<h4>Generating New Images:</h4>\n",
    "<p>Now, we have a trained model. We can now generate new images from this trained model. We can load our saved model from the previous step and draw a set set of uniformly randomly distributed numbers that is size 36 x 128 (128 is our previous batch size). We can then use this new z to generate sample images from the generator. We will then save the newly generated images into a directory called synthetic_faces.</p>"
   ]
  },
  {
   "cell_type": "code",
   "execution_count": 16,
   "metadata": {
    "collapsed": false
   },
   "outputs": [
    {
     "name": "stdout",
     "output_type": "stream",
     "text": [
      "WARNING:tensorflow:From <ipython-input-16-17230ff252d0>:3: initialize_all_variables (from tensorflow.python.ops.variables) is deprecated and will be removed after 2017-03-02.\n",
      "Instructions for updating:\n",
      "Use `tf.global_variables_initializer` instead.\n"
     ]
    }
   ],
   "source": [
    "batch_size_sample = 36\n",
    "num_img = 10\n",
    "init = tf.initialize_all_variables()\n",
    "saver = tf.train.Saver()\n",
    "with tf.Session() as sess:  \n",
    "    sess.run(init)\n",
    "    \n",
    "    #Load previos Model and weights\n",
    "    ckpt = tf.train.get_checkpoint_state('./facial_models')\n",
    "    saver.restore(sess,ckpt.model_checkpoint_path)\n",
    "    \n",
    "    #Generate 10 synthetic facial iamges \n",
    "    for k in range(num_img):\n",
    "        #Generate random uniform to generate synthetic images\n",
    "        rand_z = np.random.uniform(-1.0,1.0,size=[batch_size_sample,z_size]).astype(np.float32) \n",
    "        newZ = sess.run(Gz,feed_dict={z_in:rand_z}) \n",
    "    \n",
    "        #Save synthetic image\n",
    "        if not os.path.exists('./synthetic_faces'):\n",
    "            os.makedirs('./synthetic_faces')\n",
    "        save_generated_images(np.reshape(newZ[0:batch_size_sample],[36,32,32]),[6,6],'synthetic_faces/synthetic_face'+str(k)+'.png')"
   ]
  },
  {
   "cell_type": "markdown",
   "metadata": {},
   "source": [
    "<p>Let us now take a look at some of the syntetic facial images we have created:</p>"
   ]
  },
  {
   "cell_type": "markdown",
   "metadata": {},
   "source": [
    "<img src=\"synthetic_faces/synthetic_face9.png\" style=\"width:200px; height:200px\">\n",
    "<br>\n",
    "<img src=\"synthetic_faces/synthetic_face8.png\" style=\"width:200px; height:200px\">"
   ]
  },
  {
   "cell_type": "markdown",
   "metadata": {},
   "source": [
    "<p>Above we see that with just 5000 iterations we have generated synthetic facial images. Let us look at a timelapse of our training process. To create this timelaps, I have taken all training images and uploaded them to makeagif.com. You can find the generated gif <a href=\"http://makeagif.com/gif/ajl-gan-training-lfw-2e1eDG\">here</a> as well as below:</p>\n",
    "<img src=\"AJL_GAN_training_LFW.gif\">"
   ]
  },
  {
   "cell_type": "markdown",
   "metadata": {},
   "source": [
    "<p>We see that as we started training the generated images looked like random lines and dots. However, the generator became more and more successful as the images look more and more like faces as time progresses.</p>"
   ]
  },
  {
   "cell_type": "markdown",
   "metadata": {},
   "source": [
    "<h4>Using a GPU for training:</h4>\n",
    "<p>We see that we had good success with training on only 5,000 iterations on our laptop machine. The training process took just over 8 hours. Let us now run 50,000 iterations and see how our performance improves. This training process is very computationally expensive so we will utilize Amazon Web Services p2.8xlarge machine for training our model. This machine has 8 GPUs, 32 vCPU, 488 GiB of memory, 19968 parallel processing cores, 96 GiB of GPU memory, and 10 Gigabit network performance. This is a very powerful machine and at the cost of a few dollars an hour we should be able to train our model in no time.</p>\n",
    "<p>However, we need to alter our code slightly to enable GPU support. We make the changes as follows by enabling GPU and running our previous code:</p>"
   ]
  },
  {
   "cell_type": "code",
   "execution_count": null,
   "metadata": {
    "collapsed": true
   },
   "outputs": [],
   "source": [
    "DEVICE='/gpu:0'\n",
    "with tf.device(DEVICE):\n",
    "    tf.reset_default_graph()\n",
    "\n",
    "    z_size = 100\n",
    "\n",
    "    #Initialize Network weights \n",
    "    initializer = tf.truncated_normal_initializer(stddev=0.02)\n",
    "\n",
    "    #Input for Generator \n",
    "    z_in = tf.placeholder(shape=[None,z_size],dtype=tf.float32) \n",
    "\n",
    "    #Input for Discriminator\n",
    "    real_in = tf.placeholder(shape=[None,32,32,1],dtype=tf.float32)\n",
    "\n",
    "    #Creating Images for ranom vectors of size z_in\n",
    "    Gz = generator(z_in)\n",
    "\n",
    "    #Probabilities for real images\n",
    "    Dx = discriminator(real_in)\n",
    "\n",
    "    #Probabilities for generator images\n",
    "    Dg = discriminator(Gz,reuse=True)\n",
    "\n",
    "    #Optimize the discriminator and the generator\n",
    "    d_log1 = tf.log(Dx)\n",
    "    d_log2 = tf.log(1.-Dg)\n",
    "    g_log = tf.log(Dg)\n",
    "    d_loss = -tf.reduce_mean(d_log1 + d_log2) \n",
    "    g_loss = -tf.reduce_mean(g_log) \n",
    "\n",
    "    tvars = tf.trainable_variables()\n",
    "\n",
    "    #Use the Adam Optimizers for discriminator and generator \n",
    "    LR = 0.0002\n",
    "    BTA = 0.5\n",
    "    trainerD = tf.train.AdamOptimizer(learning_rate=LR,beta1=BTA)\n",
    "    trainerG = tf.train.AdamOptimizer(learning_rate=LR,beta1=BTA)\n",
    "\n",
    "    #Gradients for discriminator and generator\n",
    "    gradients_discriminator = trainerD.compute_gradients(d_loss,tvars[9:]) \n",
    "    gradients_generator = trainerG.compute_gradients(g_loss,tvars[0:9]) \n",
    "\n",
    "    #Apply the gradients\n",
    "    update_D = trainerD.apply_gradients(gradients_discriminator)\n",
    "    update_G = trainerG.apply_gradients(gradients_generator)"
   ]
  },
  {
   "cell_type": "markdown",
   "metadata": {},
   "source": [
    "<p>We can now apply our previous training code to start training the model on the AWS instance:</p>"
   ]
  },
  {
   "cell_type": "code",
   "execution_count": null,
   "metadata": {
    "collapsed": true
   },
   "outputs": [],
   "source": [
    "#size setups\n",
    "batch_size = 128\n",
    "iterations = 50000 \n",
    "\n",
    "#tf setup\n",
    "init = tf.global_variables_initializer()\n",
    "saver = tf.train.Saver()\n",
    "\n",
    "#plot setup\n",
    "plt_g = np.array([])\n",
    "plt_d = np.array([])\n",
    "plt_x = np.array([])\n",
    "\n",
    "with tf.Session() as sess:  \n",
    "    sess.run(init)\n",
    "    for i in range(iterations):\n",
    "        print(\"Progress: \",i,\"/\",iterations)\n",
    "    \n",
    "        #Choose sample batch from data \n",
    "        xs,xt = data.train.batch_next(batch_size)\n",
    "        \n",
    "        #Make sure our data is between (-1,1)\n",
    "        xs = np.lib.pad(((np.reshape(xs,[batch_size,28,28,1]) - 0.5) * 2.0),((0,0),(2,2),(2,2),(0,0)),'constant', constant_values=(-1, -1))\n",
    "        \n",
    "        #Updating Discriminator Once and Generator Twice\n",
    "        random_z_batch = np.random.uniform(-1.0,1.0,size=[batch_size,z_size]).astype(np.float32) #Generate a random z batch\n",
    "        _,dLoss = sess.run([update_D,d_loss],feed_dict={z_in:random_z_batch,real_in:xs}) \n",
    "        _,gLoss = sess.run([update_G,g_loss],feed_dict={z_in:random_z_batch}) \n",
    "        _,gLoss = sess.run([update_G,g_loss],feed_dict={z_in:random_z_batch})\n",
    "        \n",
    "\n",
    "        #Training Stats\n",
    "        if i % 15 == 0:\n",
    "            #Plot our generator loss and discriminator loss\n",
    "            print(\"Gen Loss: \" + str(gLoss) + \" Disc Loss: \" + str(dLoss))\n",
    "            plt_g = np.append(plt_g,float(gLoss))\n",
    "            plt_d = np.append(plt_d,float(dLoss))\n",
    "            plt_x = np.append(plt_x,i)\n",
    "            plt.gca().cla() \n",
    "            plt.plot(plt_x,plt_g,'r--',label='gen loss')\n",
    "            plt.plot(plt_x,plt_d,'g--',label='disc loss')\n",
    "            plt.xlabel('iteration')\n",
    "            plt.ylabel('loss')\n",
    "            plt.title('Loss vs iteration')\n",
    "            plt.legend()\n",
    "            display.clear_output(wait=True)\n",
    "            display.display(plt.gcf())       \n",
    "            \n",
    "            #Get sample images from the generator\n",
    "            z2 = np.random.uniform(-1.0,1.0,size=[batch_size,z_size]).astype(np.float32) \n",
    "            newZ = sess.run(Gz,feed_dict={z_in:z2})\n",
    "            \n",
    "            #Save our generated images \n",
    "            if not os.path.exists('./gpu_facial_figs'):\n",
    "                os.makedirs('./gpu_facial_figs')\n",
    "            save_generated_images(np.reshape(newZ[0:36],[36,32,32]),[6,6],'./gpu_facial_figs/fig'+str(i)+'.png')\n",
    "        \n",
    "        #Save our model every 1000 iterations\n",
    "        if i % 1000 == 0 and i != 0:\n",
    "            if not os.path.exists('./gpu_facial_models'):\n",
    "                os.makedirs('./gpu_facial_models')\n",
    "            saver.save(sess,'./gpu_facial_models/model-'+str(i)+'.cptk')\n",
    "            print(\"Saved Model\")"
   ]
  },
  {
   "cell_type": "markdown",
   "metadata": {},
   "source": [
    "<p>A small sample of the training from our DCGAN on the GPU is as follows:</p>"
   ]
  },
  {
   "cell_type": "markdown",
   "metadata": {},
   "source": [
    "<img src=\"gpu_1.png\" style=\"width:200px; height:200px\">\n",
    "<img src=\"gpu_2.png\" style=\"width:200px; height:200px\">"
   ]
  },
  {
   "cell_type": "markdown",
   "metadata": {},
   "source": [
    "<p>We see that the images are now much more detailed with 50,000 iterations.</p>"
   ]
  },
  {
   "cell_type": "markdown",
   "metadata": {},
   "source": [
    "<p>All in all, we have used a deep convolutional generative adversarial network to create synthetic facial images.</p>"
   ]
  }
 ],
 "metadata": {
  "kernelspec": {
   "display_name": "Python 3",
   "language": "python",
   "name": "python3"
  },
  "language_info": {
   "codemirror_mode": {
    "name": "ipython",
    "version": 3
   },
   "file_extension": ".py",
   "mimetype": "text/x-python",
   "name": "python",
   "nbconvert_exporter": "python",
   "pygments_lexer": "ipython3",
   "version": "3.5.2"
  }
 },
 "nbformat": 4,
 "nbformat_minor": 2
}
