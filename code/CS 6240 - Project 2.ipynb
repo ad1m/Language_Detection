{
 "cells": [
  {
   "cell_type": "markdown",
   "metadata": {},
   "source": [
    "<h1><center>LSTM Language Detection</center></h1>\n",
    "<h3><center>CSE 6240 - Websearch and Text Mining</center></h3>\n",
    "\n",
    "<h7><center>Adam Lieberman, Garrett Mallory, Ravish Chawla</center></h7>\n",
    "<h7><center>April 25, 2017</center></h7>"
   ]
  },
  {
   "cell_type": "markdown",
   "metadata": {},
   "source": [
    "1) make 80/20 split on end and frn languages. (lower case all letters)\n",
    "2) create two lstm models (size 128)\n",
    "3) train 5 epochs, 0.2 validation split on the training samples \n",
    "4) \n",
    "4) train on 100 examples of 5 character strings from text with the right label.\n",
    "\n",
    "pass new word through lstm to get log probability. then do generative log ratio test. y = sign(pe/pj -1) to get the label. Keep scores for ROC.\n",
    "\n",
    "to get log probability, need p(t), p(r|t), p(u|tr) ... etc. Do this by passing in t, then tr then tru .... This gives you the most likely next character distribution so index into that to get the prob of \"U\" from \"tr\".\n",
    "\n",
    "pass both sets of 100 test (all 200) through both networks for the probability part\n"
   ]
  },
  {
   "cell_type": "code",
   "execution_count": 3,
   "metadata": {},
   "outputs": [],
   "source": [
    "from __future__ import print_function\n",
    "import sys\n",
    "import random\n",
    "import numpy as np\n",
    "\n",
    "from keras.models import Sequential\n",
    "from keras.layers import Dense, Activation\n",
    "from keras.layers import LSTM\n",
    "from keras.optimizers import RMSprop\n",
    "from keras.utils.data_utils import get_file"
   ]
  },
  {
   "cell_type": "code",
   "execution_count": 41,
   "metadata": {},
   "outputs": [
    {
     "name": "stdout",
     "output_type": "stream",
     "text": [
      "English corpus length: 10746\n",
      "French corpus length: 12009\n",
      "universal declaration of human rights\n",
      "preamble whereas recognition of the inherent dignity and of the equal and inalienable rights of all members of the human family is the foundation of freedom, justice and peace in the world, whereas disregard and contempt for human rights have resulted in barbarous acts which have outraged the conscience of mankind, and the advent of a world in which human beings shall enjoy freedom of speech and belief and freedom from fear and want has been proclaimed as the highest aspiration of the common people, whereas it is essential, if man is not to be compelled to have recourse, as a last resort, to rebellion against tyranny and oppression, that human rights should be protected by the rule of law, whereas it is essential to promote the development of friendly relations between nations, whereas the peoples of the united nations have in the charter reaffirmed their faith in fundamental human rights, in the dignity and worth of the human person and in the equal rights of men and women and have determined to promote social progress and better standards of life in larger freedom, whereas member states have pledged themselves to achieve, in cooperation with the united nations, the promotion of universal respect for and observance of human rights and fundamental freedoms, whereas a common understanding of these rights and freedoms is of the greatest importance for the full realization of this pledge, now, therefore, the general assembly, proclaims this universal declaration of human rights as a common standard of achievement for all peoples and all nations, to the end that every individual and every organ of society, keeping this declaration constantly in mind, shall strive by\n",
      "\n",
      "\f",
      "teaching and education to promote respect for these rights and freedoms and by progressive measures, national and international, to secure their universal and effective recognition and observance, both among the peoples of member states themselves and among the peoples of territories under their jurisdiction. article i all human beings are born free and equal in dignity and rights. they are endowed with reason and conscience and should act towards one another in a spirit of brotherhood. article 2 everyone is entitled to all the rights and freedoms set forth in this declaration, without distinction of any kind, such as race, colour, sex, language, religion, political or other opinion, national or social origin, property, birth or other status. furthermore, no distinction shall be made on the basis of the political, jurisdictional or international status of the country or territory to which a person belongs, whether it be independent, trust, non-self-governing or under any other limitation of sovereignty. article 3 everyone has the right to life, liberty and security of person. article 4 no one shall be held in slavery or servitude; slavery and the slave trade shall be prohibited in all their forms. article 5 no one shall be subjected to torture or to cruel, inhuman or degrading treatment or punishment.\n",
      "\n",
      "\f",
      "article 6 everyone has the right to recognition everywhere as a person before the law. article 7 all are equal before the law and are entitled without any discrimination to equal protection of the law. all are entitled to equal protection against any discrimination in violation of this declaration and against any incitement to such discrimination. article 8 everyone has the right to an effective remedy by the competent national tribunals for acts violating the fundamental rights granted him by the constitution or by law. article 9 no one shall be subjected to arbitrary arrest, detention or exile. article 10 everyone is entitled in full equality to a fair and public hearing by an independent and impartial tribunal, in the determination of his rights and obligations and of any criminal charge against him. article 11 1. everyone charged with a penal offence has the right to be presumed innocent until proved guilty according to law in a public trial at which he has had all the guarantees necessary for his defence. 2. no one shall be held guilty of any penal offence on account of any act or omission which did not constitute a penal offence, under national or international law, at the time when it was committed. nor shall a heavier\n",
      "\n",
      "\f",
      "penalty be imposed than the one that was applicable at the time the penal offence was committed. article 12 no one shall be subjected to arbitrary interference with his privacy, family, home or correspondence, nor to attacks upon his honour and reputation. everyone has the right to the protection of the law against such interference or attacks. article 13 1. everyone has the right to freedom of movement and residence within the borders of each state. 2. everyone has the right to leave any country, including his own, and to return to his country. article 14 1. everyone has the right to seek and to enjoy in other countries asylum from persecution. 2. this right may not be invoked in the case of prosecutions genuinely arising from non-political crimes or from acts contrary to the purposes and principles of the united nations. article 15 1. everyone has the right to a nationality. 2. no one shall be arbitrarily deprived of his nationality nor denied the right to change his nationality. article 16\n",
      "\n",
      "\f",
      "1. men and women of full age, without any limitation due to race, nationality or religion, have the right to marry and to found a family. they are entitled to equal rights as to marriage, during marriage and at its dissolution. 2. marriage shall be entered into only with the free and full consent of the intending spouses. 3. the family is the natural and fundamental group unit of society and is entitled to protection by society and the state. article 17 1. everyone has the right to own property alone as well as in association with others. 2. no one shall be arbitrarily deprived of his property. article 18 everyone has the right to freedom of thought, conscience and religion; this right includes freedom to change his religion or belief, and freedom, either alone or in community with others and in public or private, to manifest his religion or belief in teaching, practice, worship and observance. article 19 everyone has the right to freedom of opinion and expression; this right includes freedom to hold opinions without interference and to seek, receive and impart information and ideas through any media and regardless of frontiers. article 20 1. everyone has the right to freedom of peaceful assembly and association. 2. no one may be compelled to belong to an association. article 21\n",
      "\n",
      "\f",
      "1. everyone has the right to take part in the government of his country, directly or through freely chosen representatives. 2. everyone has the right to equal access to public service in his country. 3. the will of the people shall be the basis of the authority of government; this will shall be expressed in periodic and genuine elections which shall be by universal and equal suffrage and shall be held by secret vote or by equivalent free voting procedures. article 22 everyone, as a member of society, has the right to social security and is entitled to realization, through national effort and international co-operation and in accordance with the organization and resources of each state, of the economic, social and cultural rights indispensable for his dignity and the free development of his personality. article 23 1. everyone has the right to work, to free choice of employment, to just and favourable conditions of work and to protection against unemployment. 2. everyone, without any discrimination, has the right to equal pay for equal work. 3. everyone who works has the right to just and favourable remuneration ensuring for himself and his family an existence worthy of human dignity, and supplemented, if necessary, by other means of social protection. 4. everyone has the right to form and to join trade unions for the protection of his interests. article 24 everyone has the right to rest and leisure, including reasonable limitation of working hours and periodic holidays with pay.\n",
      "\n",
      "\f",
      "article 25 1. everyone has the right to a standard of living adequate for the health and well-being of himself and of his family, including food, clothing, housing and medical care and necessary social services, and the right to security in the event of unemployment, sickness, disability, widowhood, old age or other lack of livelihood in circumstances beyond his control. 2. motherhood and childhood are entitled to special care and assistance. all children, whether born in or out of wedlock, shall enjoy the same social protection. article 26 1. everyone has the right to education. education shall be free, at least in the elementary and fundamental stages. elementary education shall be compulsory. technical and professional education shall be made generally available and higher education shall be equally accessible to all on the basis of merit. 2. education shall be directed to the full development of the human personality and to the strengthening of respect for human rights and fundamental freedoms. it shall promote understanding, tolerance and friendship among all nations, racial or religious groups, and shall further the activities of the united nations for the maintenance of peace. 3. parents have a prior right to choose the kind of education that shall be given to their children. article 27 1. everyone has the right freely to participate in the cultural life of the community, to enjoy the arts and to share in scientific advancement and its benefits.\n",
      "\n",
      "\f",
      "2. everyone has the right to the protection of the moral and material interests resulting from any scientific, literary or artistic production of which he is the author. article 28 everyone is entitled to a social and international order in which the rights and freedoms set forth in this declaration can be fully realized. article 29 1. everyone has duties to the community in which alone the free and full development of his personality is possible. 2. in the exercise of his rights and freedoms, everyone shall be subject only to such limitations as are determined by law solely for the purpose of securing due recognition and respect for the rights and freedoms of others and of meeting the just requirements of morality, public order and the general welfare in a democratic society. 3. these rights and freedoms may in no case be exercised contrary to the purposes and principles of the united nations. article 30 nothing in this declaration may be interpreted as implying for any state, group or person any right to engage in any activity or to perform any act aimed at the destruction of any of the rights and freedoms set forth herein.\n",
      "\n",
      "\f",
      "\n"
     ]
    }
   ],
   "source": [
    "english_text = open('eng.txt').read().lower()\n",
    "french_text = open('frn.txt').read().lower()\n",
    "\n",
    "print('English corpus length:', len(english_text))\n",
    "print('French corpus length:', len(french_text))"
   ]
  },
  {
   "cell_type": "code",
   "execution_count": 37,
   "metadata": {},
   "outputs": [],
   "source": [
    "english_chars = sorted(list(set(english_text)))\n",
    "french_chars = sorted(list(set(french_text)))\n",
    "\n",
    "english_char_map = dict((c, i) for i, c in enumerate(english_chars))\n",
    "french_char_map = dict((c, i) for i, c in enumerate(french_chars))\n",
    "\n",
    "english_char_map_inverse = dict((i, c) for i, c in enumerate(english_chars))\n",
    "french_char_map_inverse = dict((i, c) for i, c in enumerate(french_chars))"
   ]
  },
  {
   "cell_type": "code",
   "execution_count": 50,
   "metadata": {},
   "outputs": [
    {
     "name": "stdout",
     "output_type": "stream",
     "text": [
      "English character count: 43\n",
      "French character count: 41\n",
      "note present: '\n"
     ]
    }
   ],
   "source": [
    "print('English character count:', len(english_chars))\n",
    "print('French character count:', len(french_chars))\n",
    "for c in french_chars:\n",
    "    if c not in english_chars:\n",
    "        print(\"note present:\", c)"
   ]
  },
  {
   "cell_type": "code",
   "execution_count": 39,
   "metadata": {},
   "outputs": [
    {
     "name": "stdout",
     "output_type": "stream",
     "text": [
      "nb English sequences: 3569\n",
      "nb French sequences: 3990\n"
     ]
    }
   ],
   "source": [
    "# cut the text in semi-redundant sequences of maxlen characters\n",
    "maxlen = 40\n",
    "step = 3\n",
    "\n",
    "english_sentences = []\n",
    "english_next_chars = []\n",
    "for i in range(0, len(english_text) - maxlen, step):\n",
    "    english_sentences.append(english_text[i: i + maxlen])\n",
    "    english_next_chars.append(english_text[i + maxlen])\n",
    "\n",
    "french_sentences = []\n",
    "french_next_chars = []\n",
    "for i in range(0, len(french_text) - maxlen, step):\n",
    "    french_sentences.append(french_text[i: i + maxlen])\n",
    "    french_next_chars.append(french_text[i + maxlen])\n",
    "    \n",
    "print('nb English sequences:', len(english_sentences))\n",
    "print('nb French sequences:', len(french_sentences))"
   ]
  },
  {
   "cell_type": "code",
   "execution_count": 40,
   "metadata": {},
   "outputs": [
    {
     "name": "stdout",
     "output_type": "stream",
     "text": [
      "Vectorization...\n",
      "Finished!\n"
     ]
    }
   ],
   "source": [
    "print('Vectorization...')\n",
    "english_x = np.zeros((len(english_sentences), maxlen, len(english_chars)), dtype=np.bool)\n",
    "english_y = np.zeros((len(english_sentences), len(english_chars)), dtype=np.bool)\n",
    "for i, sentence in enumerate(english_sentences):\n",
    "    for t, char in enumerate(sentence):\n",
    "        english_x[i, t, english_char_map[char]] = 1\n",
    "    english_y[i, english_char_map[english_next_chars[i]]] = 1\n",
    "    \n",
    "    \n",
    "french_x = np.zeros((len(french_sentences), maxlen, len(french_chars)), dtype=np.bool)\n",
    "french_y = np.zeros((len(french_sentences), len(french_chars)), dtype=np.bool)\n",
    "for i, sentence in enumerate(french_sentences):\n",
    "    for t, char in enumerate(sentence):\n",
    "        french_x[i, t, french_char_map[char]] = 1\n",
    "    french_y[i, french_char_map[french_next_chars[i]]] = 1\n",
    "\n",
    "print(\"Finished!\")"
   ]
  },
  {
   "cell_type": "code",
   "execution_count": 65,
   "metadata": {},
   "outputs": [
    {
     "name": "stdout",
     "output_type": "stream",
     "text": [
      "43\n",
      "Build model...\n",
      "Epoch 1/5\n",
      "3569/3569 [==============================] - 2s - loss: 3.0919     \n",
      "Epoch 2/5\n",
      "3569/3569 [==============================] - 2s - loss: 2.7503     \n",
      "Epoch 3/5\n",
      "3569/3569 [==============================] - 2s - loss: 2.4440     \n",
      "Epoch 4/5\n",
      "3569/3569 [==============================] - 2s - loss: 2.2529     \n",
      "Epoch 5/5\n",
      "3569/3569 [==============================] - 2s - loss: 2.0993     \n"
     ]
    },
    {
     "data": {
      "text/plain": [
       "<keras.callbacks.History at 0x7f4838db4668>"
      ]
     },
     "execution_count": 65,
     "metadata": {},
     "output_type": "execute_result"
    }
   ],
   "source": [
    "# build the model: a single LSTM\n",
    "def build_model(chars):\n",
    "    print('Build model...')\n",
    "    model = Sequential()\n",
    "    model.add(LSTM(128, input_shape=(maxlen, 43)))\n",
    "    model.add(Dense(43))\n",
    "    model.add(Activation('softmax'))\n",
    "\n",
    "    optimizer = RMSprop(lr=0.01)\n",
    "    model.compile(loss='categorical_crossentropy', optimizer=optimizer)\n",
    "    return model\n",
    "\n",
    "print (len(english_chars))\n",
    "english_model = build_model(english_chars)\n",
    "english_model.fit(english_x, english_y, batch_size=128, epochs=5)\n"
   ]
  },
  {
   "cell_type": "code",
   "execution_count": 18,
   "metadata": {
    "collapsed": true
   },
   "outputs": [],
   "source": [
    "def sample(preds, temperature=1.0):\n",
    "    # helper function to sample an index from a probability array\n",
    "    preds = np.asarray(preds).astype('float64')\n",
    "    preds = np.log(preds) / temperature\n",
    "    exp_preds = np.exp(preds)\n",
    "    preds = exp_preds / np.sum(exp_preds)\n",
    "    probas = np.random.multinomial(1, preds, 1)\n",
    "    return np.argmax(probas)\n"
   ]
  },
  {
   "cell_type": "code",
   "execution_count": 56,
   "metadata": {},
   "outputs": [],
   "source": [
    "def train_model(model, text, chars, char_map, char_map_inverse, x, y):\n",
    "    # train the model, output generated text after each iteration\n",
    "    for iteration in range(1, 60):\n",
    "        print()\n",
    "        print('-' * 50)\n",
    "        print('Iteration', iteration)\n",
    "        model.fit(x, y,\n",
    "                  batch_size=128,\n",
    "                  epochs=5)\n",
    "\n",
    "        start_index = random.randint(0, len(text) - maxlen - 1)\n",
    "\n",
    "        for diversity in [0.2, 0.5, 1.0, 1.2]:\n",
    "            print()\n",
    "            print('----- diversity:', diversity)\n",
    "\n",
    "            generated = ''\n",
    "            sentence = text[start_index: start_index + maxlen]\n",
    "            generated += sentence\n",
    "            print('----- Generating with seed: \"' + sentence + '\"')\n",
    "            sys.stdout.write(generated)\n",
    "\n",
    "            for i in range(400):\n",
    "                x = np.zeros((1, maxlen, len(chars)))\n",
    "                for t, char in enumerate(sentence):\n",
    "                    x[0, t, char_map[char]] = 1.\n",
    "\n",
    "                preds = model.predict(x, verbose=0)[0]\n",
    "                next_index = sample(preds, diversity)\n",
    "                next_char = char_map_inverse[next_index]\n",
    "\n",
    "                generated += next_char\n",
    "                sentence = sentence[1:] + next_char\n",
    "\n",
    "                sys.stdout.write(next_char)\n",
    "                sys.stdout.flush()\n",
    "            print()"
   ]
  },
  {
   "cell_type": "code",
   "execution_count": 64,
   "metadata": {},
   "outputs": [
    {
     "name": "stdout",
     "output_type": "stream",
     "text": [
      "<bound method Container.summary of <keras.models.Sequential object at 0x7f489075e4e0>>\n",
      "10746\n",
      "(3569, 40, 43)\n",
      "(3569, 43)\n",
      "Epoch 1/5\n",
      "3569/3569 [==============================] - 2s - loss: 3.0911     \n",
      "Epoch 2/5\n",
      "3569/3569 [==============================] - 2s - loss: 2.7563     \n",
      "Epoch 3/5\n",
      "3569/3569 [==============================] - 2s - loss: 2.4389     \n",
      "Epoch 4/5\n",
      "3569/3569 [==============================] - 2s - loss: 2.2112     \n",
      "Epoch 5/5\n",
      "3569/3569 [==============================] - 2s - loss: 2.0357     \n"
     ]
    },
    {
     "data": {
      "text/plain": [
       "<keras.callbacks.History at 0x7f48c8d93cc0>"
      ]
     },
     "execution_count": 64,
     "metadata": {},
     "output_type": "execute_result"
    }
   ],
   "source": [
    "print (english_model.summary)\n",
    "print (len(english_text))\n",
    "print (english_x.shape)\n",
    "print (english_y.shape)\n",
    "\n",
    "english_model.fit(english_x, english_y, batch_size=128, epochs=5)\n",
    "\n",
    "\n",
    "#train_model(english_model, english_text, english_chars, english_char_map, english_char_map_inverse, english_x, english_y)"
   ]
  },
  {
   "cell_type": "code",
   "execution_count": null,
   "metadata": {
    "collapsed": true
   },
   "outputs": [],
   "source": []
  }
 ],
 "metadata": {
  "kernelspec": {
   "display_name": "Python 3",
   "language": "python",
   "name": "python3"
  },
  "language_info": {
   "codemirror_mode": {
    "name": "ipython",
    "version": 3
   },
   "file_extension": ".py",
   "mimetype": "text/x-python",
   "name": "python",
   "nbconvert_exporter": "python",
   "pygments_lexer": "ipython3",
   "version": "3.5.2"
  }
 },
 "nbformat": 4,
 "nbformat_minor": 2
}
