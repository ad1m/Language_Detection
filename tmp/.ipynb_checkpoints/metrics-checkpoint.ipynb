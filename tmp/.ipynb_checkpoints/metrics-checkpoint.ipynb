{
 "cells": [
  {
   "cell_type": "markdown",
   "metadata": {},
   "source": [
    "<h1> Performance Metrics </h1>\n",
    "\n",
    "In this notebook, we will load in a trained multiclass LSTM model and evaluate it's performance. "
   ]
  },
  {
   "cell_type": "code",
   "execution_count": 1,
   "metadata": {},
   "outputs": [
    {
     "name": "stderr",
     "output_type": "stream",
     "text": [
      "Using TensorFlow backend.\n"
     ]
    }
   ],
   "source": [
    "import sys;\n",
    "import subprocess;\n",
    "import numpy as np\n",
    "import pandas as pd\n",
    "\n",
    "from get_labels import get_labels\n",
    "from sklearn.externals import joblib\n",
    "from sklearn.cross_validation import train_test_split\n",
    "\n",
    "import keras.backend as K\n",
    "from keras.models import load_model\n",
    "from keras.models import Sequential\n",
    "from keras.layers import Dense, Activation, Reshape\n",
    "from keras.layers import LSTM\n",
    "\n",
    "import sklearn.metrics as metrics\n",
    "import matplotlib.pyplot as plt"
   ]
  },
  {
   "cell_type": "markdown",
   "metadata": {},
   "source": [
    "<h4> Load training data and labels. </h4>\n",
    "We will load the same data used in training our LSTM model but keep only the test splits this time. The random seed of 1024 has been used to ensure we get the same splits as when training the model. We include the same multiclass_loss function as before so that the model is loaded properly."
   ]
  },
  {
   "cell_type": "code",
   "execution_count": 2,
   "metadata": {},
   "outputs": [
    {
     "name": "stderr",
     "output_type": "stream",
     "text": [
      "/home/ubuntu/.local/lib/python2.7/site-packages/IPython/core/interactiveshell.py:2881: DtypeWarning: Columns (4,5) have mixed types. Specify dtype option on import or set low_memory=False.\n",
      "  exec(code_obj, self.user_global_ns, self.user_ns)\n"
     ]
    }
   ],
   "source": [
    "labels = get_labels();\n",
    "labels_array = np.array([x for x in labels]);\n",
    "labels_reshaped = labels_array.reshape(1851243, 1, 1070);"
   ]
  },
  {
   "cell_type": "code",
   "execution_count": 3,
   "metadata": {
    "collapsed": true
   },
   "outputs": [],
   "source": [
    "train_x = joblib.load(\"/mnt/cleaned_tfidf_reduced_420_morning\");\n",
    "train_x_reshaped = train_x.reshape(1851243,1,1000);"
   ]
  },
  {
   "cell_type": "code",
   "execution_count": 4,
   "metadata": {
    "collapsed": true
   },
   "outputs": [],
   "source": [
    "x_train, x_test, y_train, y_test = train_test_split(train_x_reshaped, labels_reshaped, test_size=0.20, random_state=1024)"
   ]
  },
  {
   "cell_type": "code",
   "execution_count": 21,
   "metadata": {
    "collapsed": true
   },
   "outputs": [],
   "source": [
    "#Our custom loss function\n",
    "def multiclass_loss(y_true, y_pred):\n",
    "    EPS = 1e-5\n",
    "    y_pred = K.clip(y_pred, EPS, 1 - EPS)\n",
    "    return -K.mean((1 - y_true) * K.log(1 - y_pred) + y_true * K.log(y_pred))\n",
    "\n",
    "model = load_model('khot_LSTM_1353.h5', custom_objects={\"multiclass_loss\":multiclass_loss})"
   ]
  },
  {
   "cell_type": "markdown",
   "metadata": {},
   "source": [
    "Delete unused variables to clean up memory. This should free around 60 GiB. "
   ]
  },
  {
   "cell_type": "code",
   "execution_count": 6,
   "metadata": {
    "collapsed": true
   },
   "outputs": [],
   "source": [
    "del labels\n",
    "del labels_array\n",
    "del labels_reshaped\n",
    "\n",
    "del train_x\n",
    "del train_x_reshaped\n",
    "\n",
    "del x_train\n",
    "del y_train"
   ]
  },
  {
   "cell_type": "markdown",
   "metadata": {},
   "source": [
    "For every x_test sample, predict the ICD_9 labels using our loaded model. Save both the samples and true test labels to flattened arrays for our performance metrics."
   ]
  },
  {
   "cell_type": "code",
   "execution_count": 22,
   "metadata": {},
   "outputs": [
    {
     "name": "stdout",
     "output_type": "stream",
     "text": [
      "On 370000 / 370249"
     ]
    }
   ],
   "source": [
    "def get_preds_array():\n",
    "    all_test = [];\n",
    "    all_preds = [];\n",
    "    all_preds_proba = [];\n",
    "    \n",
    "    for idx, test_val in enumerate(x_test):\n",
    "        y_test_val = y_test[idx];\n",
    "        \n",
    "        k = len(y_test_val[y_test_val == 1])\n",
    "        \n",
    "        pred_val = model.predict(test_val.reshape(1,1,1000))[0][0]\n",
    "        topk = pred_val.argsort()[-1 * k:][::-1]\n",
    "\n",
    "        pred_arr = np.zeros(y_test_val.shape);\n",
    "        pred_arr[0,topk] = 1;\n",
    "        \n",
    "        all_test.extend(y_test_val[0]);\n",
    "        all_preds.extend(pred_arr[0]);\n",
    "        all_preds_proba.extend(pred_val); # commend out this line to disable probabilty predictions\n",
    "        \n",
    "        if idx % 500 == 0:\n",
    "            sys.stdout.write('\\rOn ' + str(idx) + ' / ' + str(len(x_test)));\n",
    "            \n",
    "    return (all_preds, all_test, all_preds_proba);\n",
    "\n",
    "(all_preds, all_test, all_preds_proba) = get_preds_array();"
   ]
  },
  {
   "cell_type": "code",
   "execution_count": null,
   "metadata": {
    "collapsed": true
   },
   "outputs": [],
   "source": [
    "#joblib.dump((all_preds, all_test), 'predictions_test.pkl')"
   ]
  },
  {
   "cell_type": "markdown",
   "metadata": {},
   "source": [
    "Convert predictions and tests to numpy arrays and continue to clean up memory. Finally, print the sum of the arrays. These should be equal because we set the count of 1's in our predictions to be equal to the count of 1's in our actual values. "
   ]
  },
  {
   "cell_type": "code",
   "execution_count": 23,
   "metadata": {
    "collapsed": true
   },
   "outputs": [],
   "source": [
    "preds_arr = np.array(all_preds);\n",
    "#del all_preds\n",
    "\n",
    "test_arr = np.array(all_test);\n",
    "#del all_test\n",
    "\n",
    "preds_proba_arr = np.array(all_preds_proba)\n",
    "#del (all_preds_proba)"
   ]
  },
  {
   "cell_type": "code",
   "execution_count": 24,
   "metadata": {},
   "outputs": [
    {
     "name": "stdout",
     "output_type": "stream",
     "text": [
      "4645257.0\n",
      "4645257.0\n"
     ]
    }
   ],
   "source": [
    "print(np.sum(preds_arr));\n",
    "print(np.sum(test_arr));"
   ]
  },
  {
   "cell_type": "markdown",
   "metadata": {},
   "source": [
    "<h4> Performance Metrics </h4>\n",
    "Below we have a series of methods used to measure the performance of our model at prediciting ICD_9 codes. "
   ]
  },
  {
   "cell_type": "code",
   "execution_count": 25,
   "metadata": {
    "collapsed": true
   },
   "outputs": [],
   "source": [
    "def tp_rate(predictions, actuals, get_rate=True):\n",
    "    sums = predictions + actuals;\n",
    "    all2s = sums[sums == 2];\n",
    "    if get_rate:\n",
    "        #return len(all2s) / float(sum(sums));\n",
    "        return len(all2s) / float(len(sums));\n",
    "    else:\n",
    "        return len(all2s);"
   ]
  },
  {
   "cell_type": "code",
   "execution_count": 26,
   "metadata": {
    "collapsed": true
   },
   "outputs": [],
   "source": [
    "def fp_rate(predictions, actuals, get_rate=True):\n",
    "    act_not = np.logical_not(actuals).astype(int);\n",
    "    return tp_rate(predictions, act_not, get_rate);"
   ]
  },
  {
   "cell_type": "code",
   "execution_count": 27,
   "metadata": {
    "collapsed": true
   },
   "outputs": [],
   "source": [
    "def fn_rate(predictions, actuals, get_rate=True):\n",
    "    pred_not = np.logical_not(predictions).astype(int);\n",
    "    return tp_rate(pred_not, actuals, get_rate);"
   ]
  },
  {
   "cell_type": "code",
   "execution_count": 28,
   "metadata": {
    "collapsed": true
   },
   "outputs": [],
   "source": [
    "def tn_rate(predictions, actuals, get_rate=True):\n",
    "    pred_not = np.logical_not(predictions).astype(int);\n",
    "    act_not = np.logical_not(actuals).astype(int);\n",
    "    return tp_rate(pred_not, act_not, get_rate);"
   ]
  },
  {
   "cell_type": "code",
   "execution_count": 29,
   "metadata": {
    "collapsed": true
   },
   "outputs": [],
   "source": [
    "def accuracy(predictions, actuals):\n",
    "    tp_val = tp_rate(predictions, actuals, False);\n",
    "    tn_val = tn_rate(predictions, actuals, False);\n",
    "    \n",
    "    return (tp_val + tn_val) / float(len(predictions));"
   ]
  },
  {
   "cell_type": "code",
   "execution_count": 30,
   "metadata": {
    "collapsed": true
   },
   "outputs": [],
   "source": [
    "def precision(predictions, actuals, get_rate=True):\n",
    "    tp = tp_rate(predictions, actuals, get_rate);\n",
    "    fp = fp_rate(predictions, actuals, get_rate);\n",
    "    return (float(tp) / (tp + fp));"
   ]
  },
  {
   "cell_type": "code",
   "execution_count": 31,
   "metadata": {
    "collapsed": true
   },
   "outputs": [],
   "source": [
    "def recall(predictions, actuals, get_rate=True):\n",
    "    tp = tp_rate(predictions, actuals, get_rate);\n",
    "    fn = fn_rate(predictions, actuals, get_rate);\n",
    "    \n",
    "    return (tp / float(tp + fn));"
   ]
  },
  {
   "cell_type": "code",
   "execution_count": 64,
   "metadata": {
    "collapsed": true
   },
   "outputs": [],
   "source": [
    "def confusion_array(predictions, actuals, get_rate=True):\n",
    "    fp = fp_rate(predictions, actuals, get_rate);\n",
    "    tp = tp_rate(predictions, actuals, get_rate);\n",
    "    fn = fn_rate(predictions, actuals, get_rate);\n",
    "    tn = tn_rate(predictions, actuals, get_rate);\n",
    "    \n",
    "    conf = np.array([[tp, fp], [fn, tn]]);\n",
    "\n",
    "    conf_pdf = pd.DataFrame(conf);\n",
    "    conf_pdf.columns = ['Condition True', 'Condition False'];\n",
    "    conf_pdf = conf_pdf.set_index(np.array(['Predicted True', 'Predicted False']))\n",
    "    \n",
    "    return conf_pdf;"
   ]
  },
  {
   "cell_type": "code",
   "execution_count": 33,
   "metadata": {
    "collapsed": true
   },
   "outputs": [],
   "source": [
    "conf_vals = confusion_array(preds_arr, test_arr, False)\n",
    "conf_arr = confusion_array(preds_arr, test_arr)\n",
    "acc_val = accuracy(preds_arr, test_arr);\n",
    "precision_val = precision(preds_arr, test_arr);\n",
    "recall_val = recall(preds_arr, test_arr);"
   ]
  },
  {
   "cell_type": "code",
   "execution_count": 67,
   "metadata": {},
   "outputs": [
    {
     "name": "stdout",
     "output_type": "stream",
     "text": [
      "Confusion matrix:\n"
     ]
    },
    {
     "data": {
      "text/html": [
       "<div>\n",
       "<table border=\"1\" class=\"dataframe\">\n",
       "  <thead>\n",
       "    <tr style=\"text-align: right;\">\n",
       "      <th></th>\n",
       "      <th>Condition True</th>\n",
       "      <th>Condition False</th>\n",
       "    </tr>\n",
       "  </thead>\n",
       "  <tbody>\n",
       "    <tr>\n",
       "      <th>Predicted True</th>\n",
       "      <td>2098867</td>\n",
       "      <td>2546390</td>\n",
       "    </tr>\n",
       "    <tr>\n",
       "      <th>Predicted False</th>\n",
       "      <td>2546390</td>\n",
       "      <td>388974783</td>\n",
       "    </tr>\n",
       "  </tbody>\n",
       "</table>\n",
       "</div>"
      ],
      "text/plain": [
       "                 Condition True  Condition False\n",
       "Predicted True          2098867          2546390\n",
       "Predicted False         2546390        388974783"
      ]
     },
     "execution_count": 67,
     "metadata": {},
     "output_type": "execute_result"
    }
   ],
   "source": [
    "print (\"Confusion matrix:\")\n",
    "conf_vals"
   ]
  },
  {
   "cell_type": "code",
   "execution_count": 69,
   "metadata": {},
   "outputs": [
    {
     "name": "stdout",
     "output_type": "stream",
     "text": [
      "Confusion rate matrix:\n"
     ]
    },
    {
     "data": {
      "text/html": [
       "<div>\n",
       "<table border=\"1\" class=\"dataframe\">\n",
       "  <thead>\n",
       "    <tr style=\"text-align: right;\">\n",
       "      <th></th>\n",
       "      <th>Condition True</th>\n",
       "      <th>Condition False</th>\n",
       "    </tr>\n",
       "  </thead>\n",
       "  <tbody>\n",
       "    <tr>\n",
       "      <th>Predicted True</th>\n",
       "      <td>0.005298</td>\n",
       "      <td>0.006428</td>\n",
       "    </tr>\n",
       "    <tr>\n",
       "      <th>Predicted False</th>\n",
       "      <td>0.006428</td>\n",
       "      <td>0.981847</td>\n",
       "    </tr>\n",
       "  </tbody>\n",
       "</table>\n",
       "</div>"
      ],
      "text/plain": [
       "                 Condition True  Condition False\n",
       "Predicted True         0.005298         0.006428\n",
       "Predicted False        0.006428         0.981847"
      ]
     },
     "execution_count": 69,
     "metadata": {},
     "output_type": "execute_result"
    }
   ],
   "source": [
    "print (\"Confusion rate matrix:\")\n",
    "conf_arr"
   ]
  },
  {
   "cell_type": "code",
   "execution_count": 70,
   "metadata": {
    "scrolled": true
   },
   "outputs": [
    {
     "name": "stdout",
     "output_type": "stream",
     "text": [
      "Our values: \n",
      "\t accuracy: 0.987145 \n",
      "\t prcision: 0.451830 \n",
      "\t recall: 0.451830\n"
     ]
    }
   ],
   "source": [
    "print (\"Our values: \\n\\t accuracy: %f \\n\\t prcision: %f \\n\\t recall: %f\" % (acc_val, precision_val, recall_val))"
   ]
  },
  {
   "cell_type": "markdown",
   "metadata": {},
   "source": [
    "For comparison, we also use sklearn's built in metrics. "
   ]
  },
  {
   "cell_type": "code",
   "execution_count": null,
   "metadata": {
    "collapsed": true
   },
   "outputs": [],
   "source": [
    "sklearn_accuracy = metrics.accuracy_score(test_arr, preds_arr)\n",
    "sklearn_precision = metrics.precision_score(test_arr, preds_arr)\n",
    "sklearn_recall = metrics.recall_score(test_arr, preds_arr)\n",
    "sklearn_f1 = metrics.f1_score(test_arr, preds_arr)\n",
    "sklearn_roc = metrics.roc_auc_score(test_arr, preds_proba_arr)\n",
    "sklearn_conf_matrix = metrics.confusion_matrix(test_arr, preds_arr)"
   ]
  },
  {
   "cell_type": "code",
   "execution_count": 52,
   "metadata": {},
   "outputs": [
    {
     "name": "stdout",
     "output_type": "stream",
     "text": [
      "('Sklearn accuracy:', 0.98714484717950479)\n",
      "('Sklearn precision:', 0.45183011402813666)\n",
      "('Sklearn recall:', 0.45183011402813666)\n",
      "('Sklearn f1 score:', 0.45183011402813666)\n",
      "('sklearn roc:', 0.72266313837517526)\n",
      "('sklearn confusion matrix', array([[388974783,   2546390],\n",
      "       [  2546390,   2098867]]))\n"
     ]
    }
   ],
   "source": [
    "print (\"Sklearn accuracy:\", sklearn_accuracy)\n",
    "print (\"Sklearn precision:\", sklearn_precision)\n",
    "print (\"Sklearn recall:\", sklearn_recall)\n",
    "print (\"Sklearn f1 score:\", sklearn_f1)\n",
    "print (\"sklearn roc:\", sklearn_roc)\n",
    "print (\"sklearn confusion matrix\", sklearn_conf_matrix)"
   ]
  },
  {
   "cell_type": "code",
   "execution_count": 37,
   "metadata": {
    "collapsed": true
   },
   "outputs": [],
   "source": [
    "def plot_roc(y_test, predictions):\n",
    "    \n",
    "    fpr, tpr, threshold = metrics.roc_curve(y_test, predictions)\n",
    "    roc_auc = metrics.auc(fpr, tpr)\n",
    "    \n",
    "    plt.figure()\n",
    "    lw = 2\n",
    "    plt.plot(fpr, tpr, color='darkorange', lw=lw, label='ROC curve (area = %0.2f)' % roc_auc)\n",
    "    plt.plot([0, 1], [0, 1], color='navy', lw=lw, linestyle='--')\n",
    "    plt.xlim([0.0, 1.0])\n",
    "    plt.ylim([0.0, 1.05])\n",
    "    plt.xlabel('False Positive Rate')\n",
    "    plt.ylabel('True Positive Rate')\n",
    "    plt.title('ROC AUC')\n",
    "    plt.legend(loc=\"lower right\")\n",
    "    plt.show()\n"
   ]
  },
  {
   "cell_type": "code",
   "execution_count": 38,
   "metadata": {},
   "outputs": [
    {
     "data": {
      "image/png": "[encoded data removed]",
      "text/plain": [
       "<matplotlib.figure.Figure at 0x7fa67b593a10>"
      ]
     },
     "metadata": {},
     "output_type": "display_data"
    }
   ],
   "source": [
    "plot_roc(test_arr, preds_proba_arr)"
   ]
  }
 ],
 "metadata": {
  "kernelspec": {
   "display_name": "Python 2",
   "language": "python",
   "name": "python2"
  },
  "language_info": {
   "codemirror_mode": {
    "name": "ipython",
    "version": 3
   },
   "file_extension": ".py",
   "mimetype": "text/x-python",
   "name": "python",
   "nbconvert_exporter": "python",
   "pygments_lexer": "ipython3",
   "version": "3.5.2"
  }
 },
 "nbformat": 4,
 "nbformat_minor": 2
}
