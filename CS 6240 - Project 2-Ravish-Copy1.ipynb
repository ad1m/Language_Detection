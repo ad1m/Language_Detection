{
 "cells": [
  {
   "cell_type": "markdown",
   "metadata": {},
   "source": [
    "<h1><center>LSTM Language Detection</center></h1>\n",
    "<h3><center>CSE 6240 - Websearch and Text Mining</center></h3>\n",
    "\n",
    "<h7><center>Adam Lieberman, Garrett Mallory, Ravish Chawla</center></h7>\n",
    "<h7><center>April 25, 2017</center></h7>"
   ]
  },
  {
   "cell_type": "markdown",
   "metadata": {},
   "source": [
    "1) make 80/20 split on end and frn languages. (lower case all letters)\n",
    "2) create two lstm models (size 128)\n",
    "3) train 5 epochs, 0.2 validation split on the training samples \n",
    "4) \n",
    "4) train on 100 examples of 5 character strings from text with the right label.\n",
    "\n",
    "pass new word through lstm to get log probability. then do generative log ratio test. y = sign(pe/pj -1) to get the label. Keep scores for ROC.\n",
    "\n",
    "to get log probability, need p(t), p(r|t), p(u|tr) ... etc. Do this by passing in t, then tr then tru .... This gives you the most likely next character distribution so index into that to get the prob of \"U\" from \"tr\".\n",
    "\n",
    "pass both sets of 100 test (all 200) through both networks for the probability part\n"
   ]
  },
  {
   "cell_type": "code",
   "execution_count": 1,
   "metadata": {},
   "outputs": [
    {
     "name": "stderr",
     "output_type": "stream",
     "text": [
      "Using TensorFlow backend.\n",
      "/home/ubuntu/.local/lib/python3.5/site-packages/sklearn/cross_validation.py:44: DeprecationWarning: This module was deprecated in version 0.18 in favor of the model_selection module into which all the refactored classes and functions are moved. Also note that the interface of the new CV iterators are different from that of this module. This module will be removed in 0.20.\n",
      "  \"This module will be removed in 0.20.\", DeprecationWarning)\n"
     ]
    }
   ],
   "source": [
    "from __future__ import print_function;\n",
    "import sys;\n",
    "import random;\n",
    "from random import randint\n",
    "\n",
    "import numpy as np;\n",
    "\n",
    "from keras.models import Sequential;\n",
    "from keras.layers import Dense, Activation;\n",
    "from keras.layers import LSTM;\n",
    "from keras.optimizers import RMSprop;\n",
    "from keras.utils.data_utils import get_file;\n",
    "from sklearn.cross_validation import train_test_split;\n",
    "from sklearn.metrics import *;\n",
    "from sklearn.externals import joblib;\n",
    "\n",
    "import matplotlib.pyplot as plt;\n",
    "from IPython.display import clear_output\n",
    "from keras.callbacks import ModelCheckpoint, Callback\n"
   ]
  },
  {
   "cell_type": "code",
   "execution_count": 47,
   "metadata": {},
   "outputs": [
    {
     "name": "stdout",
     "output_type": "stream",
     "text": [
      "b'a'\n"
     ]
    }
   ],
   "source": [
    "character = 'é' #'Š'\n",
    "print (str(character.encode('Latin-1')))"
   ]
  },
  {
   "cell_type": "code",
   "execution_count": 2,
   "metadata": {},
   "outputs": [
    {
     "name": "stdout",
     "output_type": "stream",
     "text": [
      "English corpus length: 10746\n",
      "French corpus length: 12009\n"
     ]
    }
   ],
   "source": [
    "english_text = open('data/eng.txt').read().lower()\n",
    "french_text = open('data/frn.txt').read().lower()\n",
    "\n",
    "print('English corpus length:', len(english_text))\n",
    "print('French corpus length:', len(french_text))"
   ]
  },
  {
   "cell_type": "code",
   "execution_count": 3,
   "metadata": {
    "collapsed": true
   },
   "outputs": [],
   "source": [
    "english_chars = sorted(list(set(english_text)))\n",
    "french_chars = sorted(list(set(french_text)))\n",
    "\n",
    "english_char_map = dict((c, i) for i, c in enumerate(english_chars))\n",
    "french_char_map = dict((c, i) for i, c in enumerate(french_chars))\n",
    "\n",
    "english_char_map_inverse = dict((i, c) for i, c in enumerate(english_chars))\n",
    "french_char_map_inverse = dict((i, c) for i, c in enumerate(french_chars))"
   ]
  },
  {
   "cell_type": "code",
   "execution_count": 4,
   "metadata": {},
   "outputs": [
    {
     "name": "stdout",
     "output_type": "stream",
     "text": [
      "English character count: 43\n",
      "French character count: 41\n",
      "not present: '\n"
     ]
    }
   ],
   "source": [
    "print('English character count:', len(english_chars))\n",
    "print('French character count:', len(french_chars))\n",
    "for c in french_chars:\n",
    "    if c not in english_chars:\n",
    "        print(\"not present:\", c)"
   ]
  },
  {
   "cell_type": "code",
   "execution_count": 5,
   "metadata": {},
   "outputs": [
    {
     "name": "stdout",
     "output_type": "stream",
     "text": [
      "nb English sequences: 3569\n",
      "nb French sequences: 3990\n"
     ]
    }
   ],
   "source": [
    "# cut the text in semi-redundant sequences of maxlen characters\n",
    "maxlen = 40\n",
    "step = 3\n",
    "\n",
    "english_sentences = []\n",
    "english_next_chars = []\n",
    "for i in range(0, len(english_text) - maxlen, step):\n",
    "    english_sentences.append(english_text[i: i + maxlen])\n",
    "    english_next_chars.append(english_text[i + maxlen])\n",
    "\n",
    "french_sentences = []\n",
    "french_next_chars = []\n",
    "for i in range(0, len(french_text) - maxlen, step):\n",
    "    french_sentences.append(french_text[i: i + maxlen])\n",
    "    french_next_chars.append(french_text[i + maxlen])\n",
    "    \n",
    "print('nb English sequences:', len(english_sentences))\n",
    "print('nb French sequences:', len(french_sentences))"
   ]
  },
  {
   "cell_type": "code",
   "execution_count": 6,
   "metadata": {},
   "outputs": [
    {
     "name": "stdout",
     "output_type": "stream",
     "text": [
      "Vectorization...\n",
      "Finished!\n"
     ]
    }
   ],
   "source": [
    "print('Vectorization...')\n",
    "\n",
    "char_len = max(len(english_chars), len(french_chars));\n",
    "\n",
    "english_x = np.zeros((len(english_sentences), maxlen, char_len), dtype=np.bool)\n",
    "english_y = np.zeros((len(english_sentences), char_len), dtype=np.bool)\n",
    "for i, sentence in enumerate(english_sentences):\n",
    "    for t, char in enumerate(sentence):\n",
    "        english_x[i, t, english_char_map[char]] = 1\n",
    "    english_y[i, english_char_map[english_next_chars[i]]] = 1\n",
    "    \n",
    "    \n",
    "french_x = np.zeros((len(french_sentences), maxlen, char_len), dtype=np.bool)\n",
    "french_y = np.zeros((len(french_sentences), char_len), dtype=np.bool)\n",
    "for i, sentence in enumerate(french_sentences):\n",
    "    for t, char in enumerate(sentence):\n",
    "        french_x[i, t, french_char_map[char]] = 1\n",
    "    french_y[i, french_char_map[french_next_chars[i]]] = 1\n",
    "\n",
    "print(\"Finished!\")"
   ]
  },
  {
   "cell_type": "code",
   "execution_count": 7,
   "metadata": {
    "collapsed": true
   },
   "outputs": [],
   "source": [
    "english_train_x, english_test_x, english_train_y, english_test_y = train_test_split(english_x, english_y, test_size=0.2, random_state=1024);\n",
    "french_train_x, french_test_x, french_train_y, french_test_y = train_test_split(french_x, french_y, test_size=0.2, random_state=1024);"
   ]
  },
  {
   "cell_type": "code",
   "execution_count": 8,
   "metadata": {},
   "outputs": [
    {
     "name": "stdout",
     "output_type": "stream",
     "text": [
      "English Shapes\n",
      "(2855, 40, 43)\n",
      "(2855, 43)\n",
      "(714, 40, 43)\n",
      "(714, 43)\n",
      "\n",
      "French Shapes\n",
      "(3192, 40, 43)\n",
      "(3192, 43)\n",
      "(798, 40, 43)\n",
      "(798, 43)\n"
     ]
    }
   ],
   "source": [
    "print('English Shapes');\n",
    "print(english_train_x.shape);\n",
    "print(english_train_y.shape);\n",
    "print(english_test_x.shape);\n",
    "print(english_test_y.shape);\n",
    "print()\n",
    "print('French Shapes');\n",
    "print(french_train_x.shape);\n",
    "print(french_train_y.shape);\n",
    "print(french_test_x.shape);\n",
    "print(french_test_y.shape);"
   ]
  },
  {
   "cell_type": "code",
   "execution_count": 9,
   "metadata": {
    "collapsed": true
   },
   "outputs": [],
   "source": [
    "class LossHistory(Callback):\n",
    "\n",
    "    \n",
    "    def on_train_begin(self, logs={}):\n",
    "        self.all = {};\n",
    "        self.all['acc'] = [];\n",
    "        self.all['val_acc'] = [];\n",
    "        self.all['loss'] = [];\n",
    "        self.all['val_loss'] = [];\n",
    "        pass;\n",
    "    \n",
    "    def on_epoch_end(self, batch, logs={}):\n",
    "        self.all['acc'].append(logs['acc'])\n",
    "        self.all['val_acc'].append(logs['val_acc'])\n",
    "        self.all['loss'].append(logs['loss']);\n",
    "        self.all['val_loss'].append(logs['val_loss']);\n",
    "            \n",
    "        clear_output();\n",
    "        #notify_slack('Finished epoch ' + str(self.num) + ' with ' + str(logs));\n",
    "        plt.plot(self.all['acc'])\n",
    "        plt.plot(self.all['val_acc'])\n",
    "\n",
    "\n",
    "        plt.title('model accuracy')\n",
    "        plt.ylabel('accuracy')\n",
    "        plt.xlabel('epoch')\n",
    "        plt.legend(['train', 'test'], loc='upper left')\n",
    "\n",
    "        plt.show()\n",
    "        # summarize history for loss\n",
    "        plt.plot(self.all['loss'])\n",
    "        plt.plot(self.all['val_loss'])\n",
    "\n",
    "        plt.title('model loss')\n",
    "        plt.ylabel('loss')\n",
    "        plt.xlabel('epoch')\n",
    "        plt.legend(['train', 'test'], loc='upper left')\n",
    "\n",
    "        plt.show()"
   ]
  },
  {
   "cell_type": "code",
   "execution_count": 27,
   "metadata": {},
   "outputs": [
    {
     "name": "stdout",
     "output_type": "stream",
     "text": [
      "Build model...\n",
      "Build model...\n"
     ]
    }
   ],
   "source": [
    "# build the model: a single LSTM\n",
    "def build_model(chars):\n",
    "    print('Build model...')\n",
    "    model = Sequential()\n",
    "    model.add(LSTM(128, input_shape=(None, char_len)))\n",
    "    model.add(Dense(char_len))\n",
    "    model.add(Activation('softmax'))\n",
    "    \n",
    "    optimizer = RMSprop(lr=0.001)\n",
    "    model.compile(loss='categorical_crossentropy', optimizer=optimizer, metrics=['accuracy', 'mse', 'mae']);\n",
    "    return model\n",
    "\n",
    "english_model = build_model(english_chars)\n",
    "french_model = build_model(french_chars);"
   ]
  },
  {
   "cell_type": "code",
   "execution_count": 28,
   "metadata": {},
   "outputs": [
    {
     "name": "stdout",
     "output_type": "stream",
     "text": [
      "Train on 2284 samples, validate on 571 samples\n",
      "Epoch 1/60\n",
      "2284/2284 [==============================] - 2s - loss: 3.1725 - acc: 0.1423 - mean_squared_error: 0.0219 - mean_absolute_error: 0.0438 - val_loss: 2.9472 - val_acc: 0.1629 - val_mean_squared_error: 0.0215 - val_mean_absolute_error: 0.0431\n",
      "Epoch 2/60\n",
      "2284/2284 [==============================] - 2s - loss: 2.9314 - acc: 0.1624 - mean_squared_error: 0.0216 - mean_absolute_error: 0.0431 - val_loss: 2.9322 - val_acc: 0.1629 - val_mean_squared_error: 0.0216 - val_mean_absolute_error: 0.0433\n",
      "Epoch 3/60\n",
      "2284/2284 [==============================] - 1s - loss: 2.9142 - acc: 0.1629 - mean_squared_error: 0.0215 - mean_absolute_error: 0.0431 - val_loss: 2.9135 - val_acc: 0.1629 - val_mean_squared_error: 0.0215 - val_mean_absolute_error: 0.0429\n",
      "Epoch 4/60\n",
      "2284/2284 [==============================] - 2s - loss: 2.9021 - acc: 0.1659 - mean_squared_error: 0.0215 - mean_absolute_error: 0.0430 - val_loss: 2.9155 - val_acc: 0.1629 - val_mean_squared_error: 0.0214 - val_mean_absolute_error: 0.0428\n",
      "Epoch 5/60\n",
      "2284/2284 [==============================] - 2s - loss: 2.8904 - acc: 0.1651 - mean_squared_error: 0.0214 - mean_absolute_error: 0.0430 - val_loss: 2.8875 - val_acc: 0.1629 - val_mean_squared_error: 0.0214 - val_mean_absolute_error: 0.0430\n",
      "Epoch 6/60\n",
      "2284/2284 [==============================] - 2s - loss: 2.8729 - acc: 0.1699 - mean_squared_error: 0.0214 - mean_absolute_error: 0.0429 - val_loss: 2.8955 - val_acc: 0.1629 - val_mean_squared_error: 0.0213 - val_mean_absolute_error: 0.0428\n",
      "Epoch 7/60\n",
      "2284/2284 [==============================] - 2s - loss: 2.8580 - acc: 0.1729 - mean_squared_error: 0.0213 - mean_absolute_error: 0.0428 - val_loss: 2.8685 - val_acc: 0.1629 - val_mean_squared_error: 0.0212 - val_mean_absolute_error: 0.0426\n",
      "Epoch 8/60\n",
      "2284/2284 [==============================] - 2s - loss: 2.8388 - acc: 0.1725 - mean_squared_error: 0.0212 - mean_absolute_error: 0.0427 - val_loss: 2.8467 - val_acc: 0.2224 - val_mean_squared_error: 0.0211 - val_mean_absolute_error: 0.0426\n",
      "Epoch 9/60\n",
      "2284/2284 [==============================] - 2s - loss: 2.8084 - acc: 0.1830 - mean_squared_error: 0.0211 - mean_absolute_error: 0.0426 - val_loss: 2.8511 - val_acc: 0.2417 - val_mean_squared_error: 0.0211 - val_mean_absolute_error: 0.0428\n",
      "Epoch 10/60\n",
      "2284/2284 [==============================] - 2s - loss: 2.7805 - acc: 0.2053 - mean_squared_error: 0.0210 - mean_absolute_error: 0.0424 - val_loss: 2.8101 - val_acc: 0.2259 - val_mean_squared_error: 0.0210 - val_mean_absolute_error: 0.0426\n",
      "Epoch 11/60\n",
      "2284/2284 [==============================] - 2s - loss: 2.7582 - acc: 0.2014 - mean_squared_error: 0.0209 - mean_absolute_error: 0.0423 - val_loss: 2.7904 - val_acc: 0.2504 - val_mean_squared_error: 0.0209 - val_mean_absolute_error: 0.0425\n",
      "Epoch 12/60\n",
      "2284/2284 [==============================] - 2s - loss: 2.7231 - acc: 0.2180 - mean_squared_error: 0.0207 - mean_absolute_error: 0.0421 - val_loss: 2.7488 - val_acc: 0.2627 - val_mean_squared_error: 0.0206 - val_mean_absolute_error: 0.0421\n",
      "Epoch 13/60\n",
      "2284/2284 [==============================] - 2s - loss: 2.6868 - acc: 0.2338 - mean_squared_error: 0.0205 - mean_absolute_error: 0.0418 - val_loss: 2.7303 - val_acc: 0.2697 - val_mean_squared_error: 0.0205 - val_mean_absolute_error: 0.0420\n",
      "Epoch 14/60\n",
      "2284/2284 [==============================] - 2s - loss: 2.6488 - acc: 0.2553 - mean_squared_error: 0.0203 - mean_absolute_error: 0.0416 - val_loss: 2.7080 - val_acc: 0.2732 - val_mean_squared_error: 0.0205 - val_mean_absolute_error: 0.0419\n",
      "Epoch 15/60\n",
      "2284/2284 [==============================] - 2s - loss: 2.6069 - acc: 0.2697 - mean_squared_error: 0.0201 - mean_absolute_error: 0.0413 - val_loss: 2.6379 - val_acc: 0.2785 - val_mean_squared_error: 0.0200 - val_mean_absolute_error: 0.0410\n",
      "Epoch 16/60\n",
      "2284/2284 [==============================] - 2s - loss: 2.5753 - acc: 0.2706 - mean_squared_error: 0.0200 - mean_absolute_error: 0.0410 - val_loss: 2.6108 - val_acc: 0.3082 - val_mean_squared_error: 0.0198 - val_mean_absolute_error: 0.0408\n",
      "Epoch 17/60\n",
      "2284/2284 [==============================] - 2s - loss: 2.5297 - acc: 0.2942 - mean_squared_error: 0.0198 - mean_absolute_error: 0.0407 - val_loss: 2.5893 - val_acc: 0.2907 - val_mean_squared_error: 0.0196 - val_mean_absolute_error: 0.0402\n",
      "Epoch 18/60\n",
      "2284/2284 [==============================] - 2s - loss: 2.4818 - acc: 0.2999 - mean_squared_error: 0.0195 - mean_absolute_error: 0.0403 - val_loss: 2.5640 - val_acc: 0.3257 - val_mean_squared_error: 0.0196 - val_mean_absolute_error: 0.0407\n",
      "Epoch 19/60\n",
      "2284/2284 [==============================] - 2s - loss: 2.4480 - acc: 0.3060 - mean_squared_error: 0.0193 - mean_absolute_error: 0.0399 - val_loss: 2.5257 - val_acc: 0.3327 - val_mean_squared_error: 0.0192 - val_mean_absolute_error: 0.0398\n",
      "Epoch 20/60\n",
      "2284/2284 [==============================] - 2s - loss: 2.4162 - acc: 0.3201 - mean_squared_error: 0.0192 - mean_absolute_error: 0.0398 - val_loss: 2.4892 - val_acc: 0.3327 - val_mean_squared_error: 0.0191 - val_mean_absolute_error: 0.0397\n",
      "Epoch 21/60\n",
      "2284/2284 [==============================] - 2s - loss: 2.3814 - acc: 0.3240 - mean_squared_error: 0.0190 - mean_absolute_error: 0.0394 - val_loss: 2.4885 - val_acc: 0.3363 - val_mean_squared_error: 0.0190 - val_mean_absolute_error: 0.0390\n",
      "Epoch 22/60\n",
      "2284/2284 [==============================] - 2s - loss: 2.3361 - acc: 0.3367 - mean_squared_error: 0.0188 - mean_absolute_error: 0.0390 - val_loss: 2.4617 - val_acc: 0.3590 - val_mean_squared_error: 0.0189 - val_mean_absolute_error: 0.0394\n",
      "Epoch 23/60\n",
      "2284/2284 [==============================] - 2s - loss: 2.3228 - acc: 0.3485 - mean_squared_error: 0.0187 - mean_absolute_error: 0.0388 - val_loss: 2.4298 - val_acc: 0.3345 - val_mean_squared_error: 0.0186 - val_mean_absolute_error: 0.0385\n",
      "Epoch 24/60\n",
      "2284/2284 [==============================] - 2s - loss: 2.2874 - acc: 0.3433 - mean_squared_error: 0.0185 - mean_absolute_error: 0.0385 - val_loss: 2.4328 - val_acc: 0.3380 - val_mean_squared_error: 0.0186 - val_mean_absolute_error: 0.0383\n",
      "Epoch 25/60\n",
      "2284/2284 [==============================] - 2s - loss: 2.2605 - acc: 0.3481 - mean_squared_error: 0.0184 - mean_absolute_error: 0.0382 - val_loss: 2.4185 - val_acc: 0.3503 - val_mean_squared_error: 0.0185 - val_mean_absolute_error: 0.0383\n",
      "Epoch 26/60\n",
      "2284/2284 [==============================] - 2s - loss: 2.2247 - acc: 0.3660 - mean_squared_error: 0.0182 - mean_absolute_error: 0.0378 - val_loss: 2.4017 - val_acc: 0.3713 - val_mean_squared_error: 0.0184 - val_mean_absolute_error: 0.0385\n",
      "Epoch 27/60\n",
      "2284/2284 [==============================] - 2s - loss: 2.2044 - acc: 0.3647 - mean_squared_error: 0.0181 - mean_absolute_error: 0.0376 - val_loss: 2.3910 - val_acc: 0.3590 - val_mean_squared_error: 0.0184 - val_mean_absolute_error: 0.0383\n",
      "Epoch 28/60\n",
      "2284/2284 [==============================] - 2s - loss: 2.1758 - acc: 0.3752 - mean_squared_error: 0.0179 - mean_absolute_error: 0.0373 - val_loss: 2.3724 - val_acc: 0.3695 - val_mean_squared_error: 0.0183 - val_mean_absolute_error: 0.0377\n",
      "Epoch 29/60\n",
      "2284/2284 [==============================] - 2s - loss: 2.1453 - acc: 0.3813 - mean_squared_error: 0.0178 - mean_absolute_error: 0.0370 - val_loss: 2.3816 - val_acc: 0.3765 - val_mean_squared_error: 0.0183 - val_mean_absolute_error: 0.0374\n",
      "Epoch 30/60\n",
      "2284/2284 [==============================] - 2s - loss: 2.1379 - acc: 0.3857 - mean_squared_error: 0.0177 - mean_absolute_error: 0.0368 - val_loss: 2.3601 - val_acc: 0.3695 - val_mean_squared_error: 0.0182 - val_mean_absolute_error: 0.0380\n",
      "Epoch 31/60\n",
      "2284/2284 [==============================] - 2s - loss: 2.0987 - acc: 0.3919 - mean_squared_error: 0.0175 - mean_absolute_error: 0.0366 - val_loss: 2.3330 - val_acc: 0.3660 - val_mean_squared_error: 0.0180 - val_mean_absolute_error: 0.0365\n",
      "Epoch 32/60\n",
      "2284/2284 [==============================] - 2s - loss: 2.0786 - acc: 0.4111 - mean_squared_error: 0.0174 - mean_absolute_error: 0.0363 - val_loss: 2.3461 - val_acc: 0.3783 - val_mean_squared_error: 0.0181 - val_mean_absolute_error: 0.0372\n",
      "Epoch 33/60\n",
      "2284/2284 [==============================] - 2s - loss: 2.0670 - acc: 0.4046 - mean_squared_error: 0.0173 - mean_absolute_error: 0.0362 - val_loss: 2.3206 - val_acc: 0.3730 - val_mean_squared_error: 0.0179 - val_mean_absolute_error: 0.0370\n",
      "Epoch 34/60\n",
      "2284/2284 [==============================] - 2s - loss: 2.0322 - acc: 0.4190 - mean_squared_error: 0.0171 - mean_absolute_error: 0.0358 - val_loss: 2.3044 - val_acc: 0.3923 - val_mean_squared_error: 0.0178 - val_mean_absolute_error: 0.0368\n",
      "Epoch 35/60\n",
      "2284/2284 [==============================] - 2s - loss: 2.0100 - acc: 0.4186 - mean_squared_error: 0.0170 - mean_absolute_error: 0.0356 - val_loss: 2.3259 - val_acc: 0.3730 - val_mean_squared_error: 0.0179 - val_mean_absolute_error: 0.0363\n",
      "Epoch 36/60\n",
      "2284/2284 [==============================] - 2s - loss: 1.9908 - acc: 0.4308 - mean_squared_error: 0.0168 - mean_absolute_error: 0.0353 - val_loss: 2.2983 - val_acc: 0.3660 - val_mean_squared_error: 0.0177 - val_mean_absolute_error: 0.0358\n",
      "Epoch 37/60\n",
      "2284/2284 [==============================] - 2s - loss: 1.9723 - acc: 0.4225 - mean_squared_error: 0.0167 - mean_absolute_error: 0.0351 - val_loss: 2.2843 - val_acc: 0.3905 - val_mean_squared_error: 0.0177 - val_mean_absolute_error: 0.0359\n",
      "Epoch 38/60\n",
      "2284/2284 [==============================] - 2s - loss: 1.9439 - acc: 0.4461 - mean_squared_error: 0.0165 - mean_absolute_error: 0.0348 - val_loss: 2.3066 - val_acc: 0.3783 - val_mean_squared_error: 0.0178 - val_mean_absolute_error: 0.0354\n",
      "Epoch 39/60\n",
      "2284/2284 [==============================] - 2s - loss: 1.9264 - acc: 0.4435 - mean_squared_error: 0.0165 - mean_absolute_error: 0.0346 - val_loss: 2.2659 - val_acc: 0.3853 - val_mean_squared_error: 0.0175 - val_mean_absolute_error: 0.0357\n",
      "Epoch 40/60\n",
      "2284/2284 [==============================] - 2s - loss: 1.9016 - acc: 0.4549 - mean_squared_error: 0.0163 - mean_absolute_error: 0.0343 - val_loss: 2.2793 - val_acc: 0.3905 - val_mean_squared_error: 0.0177 - val_mean_absolute_error: 0.0364\n",
      "Epoch 41/60\n",
      "2284/2284 [==============================] - 2s - loss: 1.8829 - acc: 0.4597 - mean_squared_error: 0.0161 - mean_absolute_error: 0.0341 - val_loss: 2.2821 - val_acc: 0.3888 - val_mean_squared_error: 0.0176 - val_mean_absolute_error: 0.0361\n",
      "Epoch 42/60\n",
      "2284/2284 [==============================] - 2s - loss: 1.8509 - acc: 0.4685 - mean_squared_error: 0.0159 - mean_absolute_error: 0.0338 - val_loss: 2.2883 - val_acc: 0.3993 - val_mean_squared_error: 0.0177 - val_mean_absolute_error: 0.0362\n",
      "Epoch 43/60\n",
      "2284/2284 [==============================] - 2s - loss: 1.8346 - acc: 0.4711 - mean_squared_error: 0.0158 - mean_absolute_error: 0.0335 - val_loss: 2.2605 - val_acc: 0.3888 - val_mean_squared_error: 0.0175 - val_mean_absolute_error: 0.0355\n",
      "Epoch 44/60\n",
      "2284/2284 [==============================] - 2s - loss: 1.8075 - acc: 0.4803 - mean_squared_error: 0.0156 - mean_absolute_error: 0.0333 - val_loss: 2.2789 - val_acc: 0.3975 - val_mean_squared_error: 0.0176 - val_mean_absolute_error: 0.0355\n",
      "Epoch 45/60\n",
      "2284/2284 [==============================] - 2s - loss: 1.7944 - acc: 0.4882 - mean_squared_error: 0.0156 - mean_absolute_error: 0.0331 - val_loss: 2.2648 - val_acc: 0.3940 - val_mean_squared_error: 0.0175 - val_mean_absolute_error: 0.0354\n",
      "Epoch 46/60\n",
      "2284/2284 [==============================] - 2s - loss: 1.7619 - acc: 0.4869 - mean_squared_error: 0.0153 - mean_absolute_error: 0.0328 - val_loss: 2.2821 - val_acc: 0.3853 - val_mean_squared_error: 0.0176 - val_mean_absolute_error: 0.0348\n",
      "Epoch 47/60\n",
      "2284/2284 [==============================] - 2s - loss: 1.7374 - acc: 0.4996 - mean_squared_error: 0.0152 - mean_absolute_error: 0.0324 - val_loss: 2.2756 - val_acc: 0.3870 - val_mean_squared_error: 0.0175 - val_mean_absolute_error: 0.0348\n",
      "Epoch 48/60\n",
      "2284/2284 [==============================] - 2s - loss: 1.7200 - acc: 0.5123 - mean_squared_error: 0.0151 - mean_absolute_error: 0.0323 - val_loss: 2.2607 - val_acc: 0.4098 - val_mean_squared_error: 0.0175 - val_mean_absolute_error: 0.0348\n",
      "Epoch 49/60\n",
      "2284/2284 [==============================] - 2s - loss: 1.6953 - acc: 0.5114 - mean_squared_error: 0.0149 - mean_absolute_error: 0.0320 - val_loss: 2.2637 - val_acc: 0.3870 - val_mean_squared_error: 0.0175 - val_mean_absolute_error: 0.0348\n",
      "Epoch 50/60\n",
      "2284/2284 [==============================] - 2s - loss: 1.6737 - acc: 0.5140 - mean_squared_error: 0.0148 - mean_absolute_error: 0.0318 - val_loss: 2.2675 - val_acc: 0.4011 - val_mean_squared_error: 0.0175 - val_mean_absolute_error: 0.0349\n",
      "Epoch 51/60\n",
      "2284/2284 [==============================] - 2s - loss: 1.6447 - acc: 0.5289 - mean_squared_error: 0.0146 - mean_absolute_error: 0.0315 - val_loss: 2.2814 - val_acc: 0.3975 - val_mean_squared_error: 0.0175 - val_mean_absolute_error: 0.0347\n",
      "Epoch 52/60\n",
      "2284/2284 [==============================] - 2s - loss: 1.6167 - acc: 0.5337 - mean_squared_error: 0.0144 - mean_absolute_error: 0.0312 - val_loss: 2.2760 - val_acc: 0.3993 - val_mean_squared_error: 0.0175 - val_mean_absolute_error: 0.0344\n",
      "Epoch 53/60\n",
      "2284/2284 [==============================] - 2s - loss: 1.6045 - acc: 0.5394 - mean_squared_error: 0.0143 - mean_absolute_error: 0.0310 - val_loss: 2.2981 - val_acc: 0.3905 - val_mean_squared_error: 0.0175 - val_mean_absolute_error: 0.0345\n",
      "Epoch 54/60\n",
      "2284/2284 [==============================] - 2s - loss: 1.5714 - acc: 0.5504 - mean_squared_error: 0.0141 - mean_absolute_error: 0.0307 - val_loss: 2.3138 - val_acc: 0.3958 - val_mean_squared_error: 0.0176 - val_mean_absolute_error: 0.0343\n",
      "Epoch 55/60\n",
      "2284/2284 [==============================] - 2s - loss: 1.5524 - acc: 0.5534 - mean_squared_error: 0.0139 - mean_absolute_error: 0.0304 - val_loss: 2.2982 - val_acc: 0.3993 - val_mean_squared_error: 0.0175 - val_mean_absolute_error: 0.0343\n",
      "Epoch 56/60\n",
      "2284/2284 [==============================] - 2s - loss: 1.5255 - acc: 0.5595 - mean_squared_error: 0.0137 - mean_absolute_error: 0.0300 - val_loss: 2.3135 - val_acc: 0.4046 - val_mean_squared_error: 0.0176 - val_mean_absolute_error: 0.0343\n",
      "Epoch 57/60\n",
      "2284/2284 [==============================] - 2s - loss: 1.4973 - acc: 0.5692 - mean_squared_error: 0.0135 - mean_absolute_error: 0.0297 - val_loss: 2.3310 - val_acc: 0.3888 - val_mean_squared_error: 0.0178 - val_mean_absolute_error: 0.0347\n",
      "Epoch 58/60\n",
      "2284/2284 [==============================] - 2s - loss: 1.4698 - acc: 0.5810 - mean_squared_error: 0.0133 - mean_absolute_error: 0.0294 - val_loss: 2.3183 - val_acc: 0.3888 - val_mean_squared_error: 0.0176 - val_mean_absolute_error: 0.0343\n",
      "Epoch 59/60\n",
      "2284/2284 [==============================] - 2s - loss: 1.4472 - acc: 0.5814 - mean_squared_error: 0.0132 - mean_absolute_error: 0.0291 - val_loss: 2.3483 - val_acc: 0.3783 - val_mean_squared_error: 0.0178 - val_mean_absolute_error: 0.0346\n",
      "Epoch 60/60\n",
      "2284/2284 [==============================] - 2s - loss: 1.4236 - acc: 0.5849 - mean_squared_error: 0.0131 - mean_absolute_error: 0.0290 - val_loss: 2.3399 - val_acc: 0.3870 - val_mean_squared_error: 0.0178 - val_mean_absolute_error: 0.0341\n",
      "Train on 2553 samples, validate on 639 samples\n",
      "Epoch 1/60\n",
      "2553/2553 [==============================] - 3s - loss: 3.0489 - acc: 0.1563 - mean_squared_error: 0.0217 - mean_absolute_error: 0.0434 - val_loss: 2.9003 - val_acc: 0.1581 - val_mean_squared_error: 0.0215 - val_mean_absolute_error: 0.0428\n",
      "Epoch 2/60\n",
      "2553/2553 [==============================] - 3s - loss: 2.8227 - acc: 0.1669 - mean_squared_error: 0.0213 - mean_absolute_error: 0.0426 - val_loss: 2.8753 - val_acc: 0.1784 - val_mean_squared_error: 0.0215 - val_mean_absolute_error: 0.0430\n",
      "Epoch 3/60\n",
      "2553/2553 [==============================] - 3s - loss: 2.8029 - acc: 0.1821 - mean_squared_error: 0.0213 - mean_absolute_error: 0.0426 - val_loss: 2.8632 - val_acc: 0.1815 - val_mean_squared_error: 0.0214 - val_mean_absolute_error: 0.0429\n",
      "Epoch 4/60\n",
      "2553/2553 [==============================] - 2s - loss: 2.7960 - acc: 0.2068 - mean_squared_error: 0.0213 - mean_absolute_error: 0.0426 - val_loss: 2.8504 - val_acc: 0.2191 - val_mean_squared_error: 0.0213 - val_mean_absolute_error: 0.0427\n",
      "Epoch 5/60\n"
     ]
    },
    {
     "name": "stdout",
     "output_type": "stream",
     "text": [
      "2553/2553 [==============================] - 2s - loss: 2.7774 - acc: 0.2103 - mean_squared_error: 0.0212 - mean_absolute_error: 0.0425 - val_loss: 2.8347 - val_acc: 0.1831 - val_mean_squared_error: 0.0213 - val_mean_absolute_error: 0.0426\n",
      "Epoch 6/60\n",
      "2553/2553 [==============================] - 2s - loss: 2.7575 - acc: 0.2135 - mean_squared_error: 0.0211 - mean_absolute_error: 0.0424 - val_loss: 2.8203 - val_acc: 0.2191 - val_mean_squared_error: 0.0212 - val_mean_absolute_error: 0.0426\n",
      "Epoch 7/60\n",
      "2553/2553 [==============================] - 2s - loss: 2.7351 - acc: 0.2307 - mean_squared_error: 0.0210 - mean_absolute_error: 0.0423 - val_loss: 2.7981 - val_acc: 0.1581 - val_mean_squared_error: 0.0211 - val_mean_absolute_error: 0.0422\n",
      "Epoch 8/60\n",
      "2553/2553 [==============================] - 2s - loss: 2.7086 - acc: 0.2319 - mean_squared_error: 0.0209 - mean_absolute_error: 0.0421 - val_loss: 2.7857 - val_acc: 0.2316 - val_mean_squared_error: 0.0210 - val_mean_absolute_error: 0.0420\n",
      "Epoch 9/60\n",
      "2553/2553 [==============================] - 2s - loss: 2.6742 - acc: 0.2519 - mean_squared_error: 0.0207 - mean_absolute_error: 0.0419 - val_loss: 2.7399 - val_acc: 0.2300 - val_mean_squared_error: 0.0208 - val_mean_absolute_error: 0.0423\n",
      "Epoch 10/60\n",
      "2553/2553 [==============================] - 3s - loss: 2.6385 - acc: 0.2562 - mean_squared_error: 0.0205 - mean_absolute_error: 0.0417 - val_loss: 2.7004 - val_acc: 0.2567 - val_mean_squared_error: 0.0207 - val_mean_absolute_error: 0.0420\n",
      "Epoch 11/60\n",
      "2553/2553 [==============================] - 2s - loss: 2.5937 - acc: 0.2671 - mean_squared_error: 0.0203 - mean_absolute_error: 0.0414 - val_loss: 2.6699 - val_acc: 0.2410 - val_mean_squared_error: 0.0206 - val_mean_absolute_error: 0.0419\n",
      "Epoch 12/60\n",
      "2553/2553 [==============================] - 2s - loss: 2.5504 - acc: 0.2758 - mean_squared_error: 0.0201 - mean_absolute_error: 0.0411 - val_loss: 2.6272 - val_acc: 0.2613 - val_mean_squared_error: 0.0204 - val_mean_absolute_error: 0.0416\n",
      "Epoch 13/60\n",
      "2553/2553 [==============================] - 3s - loss: 2.4968 - acc: 0.2895 - mean_squared_error: 0.0199 - mean_absolute_error: 0.0407 - val_loss: 2.5985 - val_acc: 0.2551 - val_mean_squared_error: 0.0203 - val_mean_absolute_error: 0.0414\n",
      "Epoch 14/60\n",
      "2553/2553 [==============================] - 2s - loss: 2.4497 - acc: 0.2918 - mean_squared_error: 0.0197 - mean_absolute_error: 0.0403 - val_loss: 2.5463 - val_acc: 0.2786 - val_mean_squared_error: 0.0200 - val_mean_absolute_error: 0.0409\n",
      "Epoch 15/60\n",
      "2553/2553 [==============================] - 2s - loss: 2.4067 - acc: 0.3036 - mean_squared_error: 0.0195 - mean_absolute_error: 0.0400 - val_loss: 2.4954 - val_acc: 0.2817 - val_mean_squared_error: 0.0198 - val_mean_absolute_error: 0.0406\n",
      "Epoch 16/60\n",
      "2553/2553 [==============================] - 2s - loss: 2.3716 - acc: 0.3118 - mean_squared_error: 0.0193 - mean_absolute_error: 0.0397 - val_loss: 2.4644 - val_acc: 0.3005 - val_mean_squared_error: 0.0196 - val_mean_absolute_error: 0.0402\n",
      "Epoch 17/60\n",
      "2553/2553 [==============================] - 2s - loss: 2.3233 - acc: 0.3322 - mean_squared_error: 0.0190 - mean_absolute_error: 0.0392 - val_loss: 2.4320 - val_acc: 0.2864 - val_mean_squared_error: 0.0194 - val_mean_absolute_error: 0.0397\n",
      "Epoch 18/60\n",
      "2553/2553 [==============================] - 2s - loss: 2.2937 - acc: 0.3318 - mean_squared_error: 0.0189 - mean_absolute_error: 0.0389 - val_loss: 2.4175 - val_acc: 0.2895 - val_mean_squared_error: 0.0194 - val_mean_absolute_error: 0.0396\n",
      "Epoch 19/60\n",
      "2553/2553 [==============================] - 2s - loss: 2.2608 - acc: 0.3423 - mean_squared_error: 0.0187 - mean_absolute_error: 0.0386 - val_loss: 2.3952 - val_acc: 0.3052 - val_mean_squared_error: 0.0192 - val_mean_absolute_error: 0.0395\n",
      "Epoch 20/60\n",
      "2553/2553 [==============================] - 2s - loss: 2.2253 - acc: 0.3533 - mean_squared_error: 0.0186 - mean_absolute_error: 0.0383 - val_loss: 2.3832 - val_acc: 0.2942 - val_mean_squared_error: 0.0192 - val_mean_absolute_error: 0.0395\n",
      "Epoch 21/60\n",
      "2553/2553 [==============================] - 2s - loss: 2.1934 - acc: 0.3623 - mean_squared_error: 0.0184 - mean_absolute_error: 0.0379 - val_loss: 2.3548 - val_acc: 0.3020 - val_mean_squared_error: 0.0191 - val_mean_absolute_error: 0.0388\n",
      "Epoch 22/60\n",
      "2553/2553 [==============================] - 2s - loss: 2.1686 - acc: 0.3604 - mean_squared_error: 0.0182 - mean_absolute_error: 0.0377 - val_loss: 2.3251 - val_acc: 0.3271 - val_mean_squared_error: 0.0189 - val_mean_absolute_error: 0.0384\n",
      "Epoch 23/60\n",
      "2553/2553 [==============================] - 1s - loss: 2.1480 - acc: 0.3705 - mean_squared_error: 0.0181 - mean_absolute_error: 0.0374 - val_loss: 2.3220 - val_acc: 0.3255 - val_mean_squared_error: 0.0189 - val_mean_absolute_error: 0.0385\n",
      "Epoch 24/60\n",
      "2553/2553 [==============================] - 1s - loss: 2.1195 - acc: 0.3788 - mean_squared_error: 0.0180 - mean_absolute_error: 0.0371 - val_loss: 2.2951 - val_acc: 0.3380 - val_mean_squared_error: 0.0188 - val_mean_absolute_error: 0.0381\n",
      "Epoch 25/60\n",
      "2553/2553 [==============================] - 2s - loss: 2.0893 - acc: 0.3858 - mean_squared_error: 0.0178 - mean_absolute_error: 0.0369 - val_loss: 2.2753 - val_acc: 0.3333 - val_mean_squared_error: 0.0187 - val_mean_absolute_error: 0.0378\n",
      "Epoch 26/60\n",
      "2553/2553 [==============================] - 1s - loss: 2.0695 - acc: 0.3870 - mean_squared_error: 0.0177 - mean_absolute_error: 0.0367 - val_loss: 2.2673 - val_acc: 0.3521 - val_mean_squared_error: 0.0186 - val_mean_absolute_error: 0.0377\n",
      "Epoch 27/60\n",
      "2553/2553 [==============================] - 1s - loss: 2.0441 - acc: 0.3917 - mean_squared_error: 0.0176 - mean_absolute_error: 0.0364 - val_loss: 2.2570 - val_acc: 0.3333 - val_mean_squared_error: 0.0186 - val_mean_absolute_error: 0.0377\n",
      "Epoch 28/60\n",
      "2553/2553 [==============================] - 1s - loss: 2.0242 - acc: 0.3999 - mean_squared_error: 0.0175 - mean_absolute_error: 0.0362 - val_loss: 2.2808 - val_acc: 0.3208 - val_mean_squared_error: 0.0188 - val_mean_absolute_error: 0.0377\n",
      "Epoch 29/60\n",
      "2553/2553 [==============================] - 1s - loss: 2.0024 - acc: 0.4078 - mean_squared_error: 0.0173 - mean_absolute_error: 0.0360 - val_loss: 2.2500 - val_acc: 0.3505 - val_mean_squared_error: 0.0185 - val_mean_absolute_error: 0.0374\n",
      "Epoch 30/60\n",
      "2553/2553 [==============================] - 1s - loss: 1.9726 - acc: 0.4175 - mean_squared_error: 0.0172 - mean_absolute_error: 0.0357 - val_loss: 2.2553 - val_acc: 0.3474 - val_mean_squared_error: 0.0186 - val_mean_absolute_error: 0.0375\n",
      "Epoch 31/60\n",
      "2553/2553 [==============================] - 1s - loss: 1.9509 - acc: 0.4195 - mean_squared_error: 0.0170 - mean_absolute_error: 0.0354 - val_loss: 2.2589 - val_acc: 0.3349 - val_mean_squared_error: 0.0186 - val_mean_absolute_error: 0.0372\n",
      "Epoch 32/60\n",
      "2553/2553 [==============================] - 2s - loss: 1.9336 - acc: 0.4164 - mean_squared_error: 0.0169 - mean_absolute_error: 0.0352 - val_loss: 2.2374 - val_acc: 0.3349 - val_mean_squared_error: 0.0185 - val_mean_absolute_error: 0.0371\n",
      "Epoch 33/60\n",
      "2553/2553 [==============================] - 2s - loss: 1.9124 - acc: 0.4309 - mean_squared_error: 0.0168 - mean_absolute_error: 0.0349 - val_loss: 2.2464 - val_acc: 0.3177 - val_mean_squared_error: 0.0187 - val_mean_absolute_error: 0.0367\n",
      "Epoch 34/60\n",
      "2553/2553 [==============================] - 1s - loss: 1.8953 - acc: 0.4344 - mean_squared_error: 0.0167 - mean_absolute_error: 0.0348 - val_loss: 2.2280 - val_acc: 0.3537 - val_mean_squared_error: 0.0184 - val_mean_absolute_error: 0.0370\n",
      "Epoch 35/60\n",
      "2553/2553 [==============================] - 1s - loss: 1.8613 - acc: 0.4418 - mean_squared_error: 0.0165 - mean_absolute_error: 0.0345 - val_loss: 2.2538 - val_acc: 0.3255 - val_mean_squared_error: 0.0187 - val_mean_absolute_error: 0.0371\n",
      "Epoch 36/60\n",
      "2553/2553 [==============================] - 2s - loss: 1.8407 - acc: 0.4465 - mean_squared_error: 0.0164 - mean_absolute_error: 0.0343 - val_loss: 2.2254 - val_acc: 0.3568 - val_mean_squared_error: 0.0184 - val_mean_absolute_error: 0.0369\n",
      "Epoch 37/60\n",
      "2553/2553 [==============================] - 2s - loss: 1.8216 - acc: 0.4481 - mean_squared_error: 0.0162 - mean_absolute_error: 0.0340 - val_loss: 2.2189 - val_acc: 0.3427 - val_mean_squared_error: 0.0185 - val_mean_absolute_error: 0.0364\n",
      "Epoch 38/60\n",
      "2553/2553 [==============================] - 1s - loss: 1.7967 - acc: 0.4602 - mean_squared_error: 0.0161 - mean_absolute_error: 0.0337 - val_loss: 2.2302 - val_acc: 0.3333 - val_mean_squared_error: 0.0186 - val_mean_absolute_error: 0.0369\n",
      "Epoch 39/60\n",
      "2553/2553 [==============================] - 1s - loss: 1.7717 - acc: 0.4755 - mean_squared_error: 0.0159 - mean_absolute_error: 0.0335 - val_loss: 2.2579 - val_acc: 0.3552 - val_mean_squared_error: 0.0186 - val_mean_absolute_error: 0.0368\n",
      "Epoch 40/60\n",
      "2553/2553 [==============================] - 2s - loss: 1.7495 - acc: 0.4665 - mean_squared_error: 0.0158 - mean_absolute_error: 0.0332 - val_loss: 2.2249 - val_acc: 0.3474 - val_mean_squared_error: 0.0184 - val_mean_absolute_error: 0.0360\n",
      "Epoch 41/60\n",
      "2553/2553 [==============================] - 1s - loss: 1.7247 - acc: 0.4775 - mean_squared_error: 0.0156 - mean_absolute_error: 0.0329 - val_loss: 2.2561 - val_acc: 0.3380 - val_mean_squared_error: 0.0187 - val_mean_absolute_error: 0.0365\n",
      "Epoch 42/60\n",
      "2553/2553 [==============================] - 1s - loss: 1.7070 - acc: 0.4857 - mean_squared_error: 0.0155 - mean_absolute_error: 0.0327 - val_loss: 2.2197 - val_acc: 0.3443 - val_mean_squared_error: 0.0184 - val_mean_absolute_error: 0.0361\n",
      "Epoch 43/60\n",
      "2553/2553 [==============================] - 1s - loss: 1.6857 - acc: 0.4881 - mean_squared_error: 0.0153 - mean_absolute_error: 0.0324 - val_loss: 2.2385 - val_acc: 0.3380 - val_mean_squared_error: 0.0186 - val_mean_absolute_error: 0.0365\n",
      "Epoch 44/60\n",
      "2553/2553 [==============================] - 1s - loss: 1.6574 - acc: 0.5053 - mean_squared_error: 0.0151 - mean_absolute_error: 0.0322 - val_loss: 2.2430 - val_acc: 0.3380 - val_mean_squared_error: 0.0187 - val_mean_absolute_error: 0.0362\n",
      "Epoch 45/60\n",
      "2553/2553 [==============================] - 2s - loss: 1.6396 - acc: 0.5076 - mean_squared_error: 0.0150 - mean_absolute_error: 0.0318 - val_loss: 2.2548 - val_acc: 0.3615 - val_mean_squared_error: 0.0186 - val_mean_absolute_error: 0.0356\n",
      "Epoch 46/60\n",
      "2553/2553 [==============================] - 1s - loss: 1.6184 - acc: 0.5174 - mean_squared_error: 0.0148 - mean_absolute_error: 0.0315 - val_loss: 2.2589 - val_acc: 0.3443 - val_mean_squared_error: 0.0187 - val_mean_absolute_error: 0.0363\n",
      "Epoch 47/60\n",
      "2553/2553 [==============================] - 1s - loss: 1.5796 - acc: 0.5268 - mean_squared_error: 0.0146 - mean_absolute_error: 0.0312 - val_loss: 2.2455 - val_acc: 0.3490 - val_mean_squared_error: 0.0185 - val_mean_absolute_error: 0.0359\n",
      "Epoch 48/60\n",
      "2553/2553 [==============================] - 1s - loss: 1.5627 - acc: 0.5213 - mean_squared_error: 0.0144 - mean_absolute_error: 0.0309 - val_loss: 2.2648 - val_acc: 0.3631 - val_mean_squared_error: 0.0187 - val_mean_absolute_error: 0.0361\n",
      "Epoch 49/60\n",
      "2553/2553 [==============================] - 1s - loss: 1.5464 - acc: 0.5335 - mean_squared_error: 0.0144 - mean_absolute_error: 0.0308 - val_loss: 2.2457 - val_acc: 0.3646 - val_mean_squared_error: 0.0185 - val_mean_absolute_error: 0.0357\n",
      "Epoch 50/60\n",
      "2553/2553 [==============================] - 1s - loss: 1.5120 - acc: 0.5413 - mean_squared_error: 0.0140 - mean_absolute_error: 0.0303 - val_loss: 2.3070 - val_acc: 0.3412 - val_mean_squared_error: 0.0190 - val_mean_absolute_error: 0.0364\n",
      "Epoch 51/60\n",
      "2553/2553 [==============================] - 1s - loss: 1.4900 - acc: 0.5531 - mean_squared_error: 0.0139 - mean_absolute_error: 0.0301 - val_loss: 2.2571 - val_acc: 0.3631 - val_mean_squared_error: 0.0186 - val_mean_absolute_error: 0.0356\n",
      "Epoch 52/60\n",
      "2553/2553 [==============================] - 1s - loss: 1.4696 - acc: 0.5566 - mean_squared_error: 0.0137 - mean_absolute_error: 0.0298 - val_loss: 2.2928 - val_acc: 0.3490 - val_mean_squared_error: 0.0189 - val_mean_absolute_error: 0.0358\n",
      "Epoch 53/60\n",
      "2553/2553 [==============================] - 1s - loss: 1.4314 - acc: 0.5754 - mean_squared_error: 0.0134 - mean_absolute_error: 0.0293 - val_loss: 2.3115 - val_acc: 0.3459 - val_mean_squared_error: 0.0192 - val_mean_absolute_error: 0.0355\n",
      "Epoch 54/60\n",
      "2553/2553 [==============================] - 1s - loss: 1.4185 - acc: 0.5770 - mean_squared_error: 0.0134 - mean_absolute_error: 0.0292 - val_loss: 2.3473 - val_acc: 0.3365 - val_mean_squared_error: 0.0191 - val_mean_absolute_error: 0.0356\n",
      "Epoch 55/60\n",
      "2553/2553 [==============================] - 2s - loss: 1.3849 - acc: 0.5840 - mean_squared_error: 0.0131 - mean_absolute_error: 0.0287 - val_loss: 2.2915 - val_acc: 0.3631 - val_mean_squared_error: 0.0187 - val_mean_absolute_error: 0.0352\n",
      "Epoch 56/60\n",
      "2553/2553 [==============================] - 1s - loss: 1.3704 - acc: 0.5950 - mean_squared_error: 0.0130 - mean_absolute_error: 0.0285 - val_loss: 2.3040 - val_acc: 0.3568 - val_mean_squared_error: 0.0188 - val_mean_absolute_error: 0.0352\n",
      "Epoch 57/60\n",
      "2553/2553 [==============================] - 1s - loss: 1.3332 - acc: 0.6114 - mean_squared_error: 0.0126 - mean_absolute_error: 0.0280 - val_loss: 2.3481 - val_acc: 0.3568 - val_mean_squared_error: 0.0191 - val_mean_absolute_error: 0.0357\n",
      "Epoch 58/60\n",
      "2553/2553 [==============================] - 1s - loss: 1.3041 - acc: 0.6169 - mean_squared_error: 0.0124 - mean_absolute_error: 0.0276 - val_loss: 2.3481 - val_acc: 0.3537 - val_mean_squared_error: 0.0189 - val_mean_absolute_error: 0.0355\n",
      "Epoch 59/60\n",
      "2553/2553 [==============================] - 1s - loss: 1.2791 - acc: 0.6240 - mean_squared_error: 0.0122 - mean_absolute_error: 0.0274 - val_loss: 2.4018 - val_acc: 0.3474 - val_mean_squared_error: 0.0193 - val_mean_absolute_error: 0.0356\n",
      "Epoch 60/60\n",
      "2553/2553 [==============================] - 1s - loss: 1.2702 - acc: 0.6271 - mean_squared_error: 0.0121 - mean_absolute_error: 0.0271 - val_loss: 2.3635 - val_acc: 0.3552 - val_mean_squared_error: 0.0190 - val_mean_absolute_error: 0.0351\n"
     ]
    }
   ],
   "source": [
    "history_english = english_model.fit(english_train_x, english_train_y,\n",
    "                    batch_size=128, epochs=60, validation_split=0.2, shuffle=True);\n",
    "history_french = french_model.fit(french_train_x, french_train_y,\n",
    "                    batch_size=128, epochs=60, validation_split=0.2, shuffle=True);"
   ]
  },
  {
   "cell_type": "code",
   "execution_count": 29,
   "metadata": {
    "collapsed": true
   },
   "outputs": [],
   "source": [
    "def random_generate(test_x, key):\n",
    "    labels = []\n",
    "    feats = []\n",
    "    if key == \"english\": \n",
    "        labels = [1 for i in range(100)]\n",
    "    elif key == 'french': \n",
    "        labels = [0 for i in range(100)]\n",
    "    else:\n",
    "        return feats, labels;\n",
    "    \n",
    "    for i in range(100): \n",
    "        r1 = randint(0, len(test_x) - 1)\n",
    "        ind = test_x[r1]\n",
    "        \n",
    "        r2 = randint(0, len(ind) - 5)\n",
    "        \n",
    "        sub_string = ind[r2:r2+5]\n",
    "        \n",
    "        feats.append(sub_string)\n",
    "        \n",
    "    return feats,labels\n",
    "    \n",
    "english_sample, english_labels = random_generate(english_test_x, 'english');\n",
    "french_sample, french_labels = random_generate(french_test_x, 'french');\n",
    "\n",
    "test_data = np.array(english_sample + french_sample);\n",
    "test_labels = np.array(english_labels + french_labels);"
   ]
  },
  {
   "cell_type": "code",
   "execution_count": 30,
   "metadata": {},
   "outputs": [
    {
     "data": {
      "image/png": "[encoded data removed]",
      "text/plain": [
       "<matplotlib.figure.Figure at 0x7f2c3e1f4b70>"
      ]
     },
     "metadata": {},
     "output_type": "display_data"
    },
    {
     "data": {
      "image/png": "[encoded data removed]",
      "text/plain": [
       "<matplotlib.figure.Figure at 0x7f2c3ea69b00>"
      ]
     },
     "metadata": {},
     "output_type": "display_data"
    }
   ],
   "source": [
    "# summarize history for accuracy\n",
    "plt.plot(history_english.history['acc'])\n",
    "plt.plot(history_english.history['val_acc'])\n",
    "\n",
    "plt.plot(history_french.history['acc'])\n",
    "plt.plot(history_french.history['val_acc'])\n",
    "\n",
    "plt.title('model accuracy')\n",
    "plt.ylabel('accuracy')\n",
    "plt.xlabel('epoch')\n",
    "plt.legend(['eng_train', 'eng_test', 'frn_train', 'frn_test'], loc='upper left')\n",
    "plt.savefig('accuracy_e_60___lr_0.0001___d_0.05.png')\n",
    "\n",
    "plt.show()\n",
    "# summarize history for loss\n",
    "plt.plot(history_english.history['loss'])\n",
    "plt.plot(history_english.history['val_loss'])\n",
    "\n",
    "plt.plot(history_french.history['loss'])\n",
    "plt.plot(history_french.history['val_loss'])\n",
    "\n",
    "plt.title('model loss')\n",
    "plt.ylabel('loss')\n",
    "plt.xlabel('epoch')\n",
    "plt.legend(['eng_train', 'eng_test', 'frn_train', 'frn_test'], loc='upper left')\n",
    "plt.savefig('loss_e_60___lr_0.0001___d_0.05.png')\n",
    "\n",
    "plt.show()"
   ]
  },
  {
   "cell_type": "code",
   "execution_count": 31,
   "metadata": {
    "collapsed": true
   },
   "outputs": [],
   "source": [
    "def predict_on_sample(model, test_val):\n",
    "    start = np.zeros((1, 1, char_len), dtype=bool);\n",
    "    start_prob = model.predict(start);\n",
    "\n",
    "    next_vec = start.copy()[0][0];\n",
    "    probs = [];\n",
    "\n",
    "    probs.append(start_prob[0,np.argwhere(test_val[0])[0][0]]);\n",
    "\n",
    "    for idx, vec in enumerate(test_val):\n",
    "        next_vec = np.append(next_vec, vec).reshape(1, idx+2, char_len)\n",
    "        next_prob = model.predict(next_vec);\n",
    "\n",
    "        probs.append(next_prob[0, np.argwhere(test_val[idx])[0][0]]);\n",
    "        \n",
    "    return np.sum(np.log10(probs));"
   ]
  },
  {
   "cell_type": "code",
   "execution_count": 32,
   "metadata": {
    "collapsed": true
   },
   "outputs": [],
   "source": [
    "english_preds = np.array([predict_on_sample(english_model, x) for x in test_data]);"
   ]
  },
  {
   "cell_type": "code",
   "execution_count": 33,
   "metadata": {
    "collapsed": true
   },
   "outputs": [],
   "source": [
    "french_preds = np.array([predict_on_sample(french_model, x) for x in test_data]);"
   ]
  },
  {
   "cell_type": "code",
   "execution_count": 34,
   "metadata": {
    "collapsed": true
   },
   "outputs": [],
   "source": [
    "ratio_probs = english_preds - french_preds;"
   ]
  },
  {
   "cell_type": "code",
   "execution_count": 35,
   "metadata": {
    "collapsed": true
   },
   "outputs": [],
   "source": [
    "ratio_probs_labels = ratio_probs.copy();\n",
    "ratio_probs_labels[ratio_probs_labels >= 1] = 1;\n",
    "ratio_probs_labels[ratio_probs_labels < 1] = 0;"
   ]
  },
  {
   "cell_type": "code",
   "execution_count": 36,
   "metadata": {},
   "outputs": [
    {
     "data": {
      "text/plain": [
       "0.57499999999999996"
      ]
     },
     "execution_count": 36,
     "metadata": {},
     "output_type": "execute_result"
    }
   ],
   "source": [
    "roc_auc_score(test_labels, ratio_probs_labels)"
   ]
  },
  {
   "cell_type": "code",
   "execution_count": 37,
   "metadata": {},
   "outputs": [
    {
     "data": {
      "text/plain": [
       "0.57499999999999996"
      ]
     },
     "execution_count": 37,
     "metadata": {},
     "output_type": "execute_result"
    }
   ],
   "source": [
    "accuracy_score(test_labels, ratio_probs_labels)"
   ]
  },
  {
   "cell_type": "code",
   "execution_count": 9,
   "metadata": {
    "collapsed": true
   },
   "outputs": [],
   "source": [
    "def something():\n",
    "    return 6,7,8,9;"
   ]
  },
  {
   "cell_type": "code",
   "execution_count": 10,
   "metadata": {},
   "outputs": [],
   "source": [
    "x = [something() for x in [1, 2, 3, 4, 5]];"
   ]
  },
  {
   "cell_type": "code",
   "execution_count": 12,
   "metadata": {},
   "outputs": [],
   "source": [
    "k = 0;"
   ]
  },
  {
   "cell_type": "code",
   "execution_count": 21,
   "metadata": {},
   "outputs": [],
   "source": [
    "def something():\n",
    "    return [0,1], [2, 3];"
   ]
  },
  {
   "cell_type": "code",
   "execution_count": 22,
   "metadata": {
    "collapsed": true
   },
   "outputs": [],
   "source": [
    "[[a, b], [c,d]] = something()"
   ]
  },
  {
   "cell_type": "code",
   "execution_count": 36,
   "metadata": {},
   "outputs": [],
   "source": [
    "import random\n",
    "import sys;"
   ]
  },
  {
   "cell_type": "code",
   "execution_count": 37,
   "metadata": {},
   "outputs": [],
   "source": [
    "a = random.Random();\n",
    "b = random.Random();"
   ]
  },
  {
   "cell_type": "code",
   "execution_count": 57,
   "metadata": {},
   "outputs": [],
   "source": [
    "a.seed(9);\n",
    "b.seed(sys.maxsize - 9);"
   ]
  },
  {
   "cell_type": "code",
   "execution_count": 58,
   "metadata": {},
   "outputs": [
    {
     "name": "stdout",
     "output_type": "stream",
     "text": [
      "60 69\n",
      "79 76\n",
      "48 22\n",
      "35 26\n",
      "18 85\n",
      "24 90\n",
      "87 12\n",
      "1 35\n",
      "44 74\n",
      "65 84\n"
     ]
    }
   ],
   "source": [
    "for i in range(10):\n",
    "    print(a.randint(1,100), b.randint(1,100));"
   ]
  },
  {
   "cell_type": "code",
   "execution_count": 59,
   "metadata": {
    "collapsed": true
   },
   "outputs": [],
   "source": [
    "a.seed(9);\n",
    "b.seed(sys.maxsize - 10);"
   ]
  },
  {
   "cell_type": "code",
   "execution_count": 60,
   "metadata": {},
   "outputs": [
    {
     "name": "stdout",
     "output_type": "stream",
     "text": [
      "60 41\n",
      "79 24\n",
      "48 31\n",
      "35 21\n",
      "18 23\n",
      "24 52\n",
      "87 81\n",
      "1 49\n",
      "44 90\n",
      "65 59\n"
     ]
    }
   ],
   "source": [
    "for i in range(10):\n",
    "    print(a.randint(1,100), b.randint(1,100));"
   ]
  },
  {
   "cell_type": "code",
   "execution_count": 61,
   "metadata": {
    "collapsed": true
   },
   "outputs": [],
   "source": [
    "a.seed(10);\n",
    "b.seed(sys.maxsize - 9);"
   ]
  },
  {
   "cell_type": "code",
   "execution_count": 62,
   "metadata": {},
   "outputs": [
    {
     "name": "stdout",
     "output_type": "stream",
     "text": [
      "74 69\n",
      "5 76\n",
      "55 22\n",
      "62 26\n",
      "74 85\n",
      "2 90\n",
      "27 12\n",
      "60 35\n",
      "63 74\n",
      "36 84\n"
     ]
    }
   ],
   "source": [
    "for i in range(10):\n",
    "    print(a.randint(1,100), b.randint(1,100));"
   ]
  },
  {
   "cell_type": "code",
   "execution_count": null,
   "metadata": {
    "collapsed": true
   },
   "outputs": [],
   "source": []
  }
 ],
 "metadata": {
  "kernelspec": {
   "display_name": "Python 3",
   "language": "python",
   "name": "python3"
  },
  "language_info": {
   "codemirror_mode": {
    "name": "ipython",
    "version": 3
   },
   "file_extension": ".py",
   "mimetype": "text/x-python",
   "name": "python",
   "nbconvert_exporter": "python",
   "pygments_lexer": "ipython3",
   "version": "3.5.2"
  }
 },
 "nbformat": 4,
 "nbformat_minor": 2
}
