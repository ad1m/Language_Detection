{
 "cells": [
  {
   "cell_type": "markdown",
   "metadata": {},
   "source": [
    "<h1><center>LSTM Language Detection</center></h1>\n",
    "<h3><center>CSE 6240 - Websearch and Text Mining</center></h3>\n",
    "\n",
    "<h7><center>Adam Lieberman, Garrett Mallory, Ravish Chawla</center></h7>\n",
    "<h7><center>April 25, 2017</center></h7>"
   ]
  },
  {
   "cell_type": "markdown",
   "metadata": {},
   "source": [
    "1) make 80/20 split on end and frn languages. (lower case all letters)\n",
    "2) create two lstm models (size 128)\n",
    "3) train 5 epochs, 0.2 validation split on the training samples \n",
    "4) \n",
    "4) train on 100 examples of 5 character strings from text with the right label.\n",
    "\n",
    "pass new word through lstm to get log probability. then do generative log ratio test. y = sign(pe/pj -1) to get the label. Keep scores for ROC.\n",
    "\n",
    "to get log probability, need p(t), p(r|t), p(u|tr) ... etc. Do this by passing in t, then tr then tru .... This gives you the most likely next character distribution so index into that to get the prob of \"U\" from \"tr\".\n",
    "\n",
    "pass both sets of 100 test (all 200) through both networks for the probability part\n"
   ]
  },
  {
   "cell_type": "code",
   "execution_count": 377,
   "metadata": {},
   "outputs": [],
   "source": [
    "from __future__ import print_function;\n",
    "import sys;\n",
    "import random;\n",
    "from random import randint\n",
    "\n",
    "import numpy as np;\n",
    "\n",
    "from keras.models import Sequential;\n",
    "from keras.layers import Dense, Activation;\n",
    "from keras.layers import LSTM;\n",
    "from keras.optimizers import RMSprop;\n",
    "from keras.utils.data_utils import get_file;\n",
    "from sklearn.cross_validation import train_test_split;\n",
    "from sklearn.metrics import *;\n",
    "from sklearn.externals import joblib;\n",
    "\n",
    "import matplotlib.pyplot as plt;\n",
    "from IPython.display import clear_output\n",
    "from keras.callbacks import ModelCheckpoint, Callback\n"
   ]
  },
  {
   "cell_type": "code",
   "execution_count": 128,
   "metadata": {},
   "outputs": [
    {
     "name": "stdout",
     "output_type": "stream",
     "text": [
      "English corpus length: 10746\n",
      "French corpus length: 12009\n"
     ]
    }
   ],
   "source": [
    "english_text = open('eng.txt').read().lower()\n",
    "french_text = open('frn.txt').read().lower()\n",
    "\n",
    "print('English corpus length:', len(english_text))\n",
    "print('French corpus length:', len(french_text))"
   ]
  },
  {
   "cell_type": "code",
   "execution_count": 129,
   "metadata": {
    "collapsed": true
   },
   "outputs": [],
   "source": [
    "english_chars = sorted(list(set(english_text)))\n",
    "french_chars = sorted(list(set(french_text)))\n",
    "\n",
    "english_char_map = dict((c, i) for i, c in enumerate(english_chars))\n",
    "french_char_map = dict((c, i) for i, c in enumerate(french_chars))\n",
    "\n",
    "english_char_map_inverse = dict((i, c) for i, c in enumerate(english_chars))\n",
    "french_char_map_inverse = dict((i, c) for i, c in enumerate(french_chars))"
   ]
  },
  {
   "cell_type": "code",
   "execution_count": 130,
   "metadata": {},
   "outputs": [
    {
     "name": "stdout",
     "output_type": "stream",
     "text": [
      "English character count: 43\n",
      "French character count: 41\n",
      "not present: '\n"
     ]
    }
   ],
   "source": [
    "print('English character count:', len(english_chars))\n",
    "print('French character count:', len(french_chars))\n",
    "for c in french_chars:\n",
    "    if c not in english_chars:\n",
    "        print(\"not present:\", c)"
   ]
  },
  {
   "cell_type": "code",
   "execution_count": 131,
   "metadata": {},
   "outputs": [
    {
     "name": "stdout",
     "output_type": "stream",
     "text": [
      "nb English sequences: 3569\n",
      "nb French sequences: 3990\n"
     ]
    }
   ],
   "source": [
    "# cut the text in semi-redundant sequences of maxlen characters\n",
    "maxlen = 40\n",
    "step = 3\n",
    "\n",
    "english_sentences = []\n",
    "english_next_chars = []\n",
    "for i in range(0, len(english_text) - maxlen, step):\n",
    "    english_sentences.append(english_text[i: i + maxlen])\n",
    "    english_next_chars.append(english_text[i + maxlen])\n",
    "\n",
    "french_sentences = []\n",
    "french_next_chars = []\n",
    "for i in range(0, len(french_text) - maxlen, step):\n",
    "    french_sentences.append(french_text[i: i + maxlen])\n",
    "    french_next_chars.append(french_text[i + maxlen])\n",
    "    \n",
    "print('nb English sequences:', len(english_sentences))\n",
    "print('nb French sequences:', len(french_sentences))"
   ]
  },
  {
   "cell_type": "code",
   "execution_count": 246,
   "metadata": {},
   "outputs": [
    {
     "name": "stdout",
     "output_type": "stream",
     "text": [
      "Vectorization...\n",
      "Finished!\n"
     ]
    }
   ],
   "source": [
    "print('Vectorization...')\n",
    "\n",
    "char_len = max(len(english_chars), len(french_chars));\n",
    "\n",
    "english_x = np.zeros((len(english_sentences), maxlen, char_len), dtype=np.bool)\n",
    "english_y = np.zeros((len(english_sentences), char_len), dtype=np.bool)\n",
    "for i, sentence in enumerate(english_sentences):\n",
    "    for t, char in enumerate(sentence):\n",
    "        english_x[i, t, english_char_map[char]] = 1\n",
    "    english_y[i, english_char_map[english_next_chars[i]]] = 1\n",
    "    \n",
    "    \n",
    "french_x = np.zeros((len(french_sentences), maxlen, char_len), dtype=np.bool)\n",
    "french_y = np.zeros((len(french_sentences), char_len), dtype=np.bool)\n",
    "for i, sentence in enumerate(french_sentences):\n",
    "    for t, char in enumerate(sentence):\n",
    "        french_x[i, t, french_char_map[char]] = 1\n",
    "    french_y[i, french_char_map[french_next_chars[i]]] = 1\n",
    "\n",
    "print(\"Finished!\")"
   ]
  },
  {
   "cell_type": "code",
   "execution_count": 133,
   "metadata": {
    "collapsed": true
   },
   "outputs": [],
   "source": [
    "english_train_x, english_test_x, english_train_y, english_test_y = train_test_split(english_x, english_y, test_size=0.2, random_state=1024);\n",
    "french_train_x, french_test_x, french_train_y, french_test_y = train_test_split(french_x, french_y, test_size=0.2, random_state=1024);"
   ]
  },
  {
   "cell_type": "code",
   "execution_count": 134,
   "metadata": {},
   "outputs": [
    {
     "name": "stdout",
     "output_type": "stream",
     "text": [
      "English Shapes\n",
      "(2855, 40, 43)\n",
      "(2855, 43)\n",
      "(714, 40, 43)\n",
      "(714, 43)\n",
      "\n",
      "French Shapes\n",
      "(3192, 40, 43)\n",
      "(3192, 43)\n",
      "(798, 40, 43)\n",
      "(798, 43)\n"
     ]
    }
   ],
   "source": [
    "print('English Shapes');\n",
    "print(english_train_x.shape);\n",
    "print(english_train_y.shape);\n",
    "print(english_test_x.shape);\n",
    "print(english_test_y.shape);\n",
    "print()\n",
    "print('French Shapes');\n",
    "print(french_train_x.shape);\n",
    "print(french_train_y.shape);\n",
    "print(french_test_x.shape);\n",
    "print(french_test_y.shape);"
   ]
  },
  {
   "cell_type": "code",
   "execution_count": 398,
   "metadata": {},
   "outputs": [],
   "source": [
    "class LossHistory(Callback):\n",
    "\n",
    "    \n",
    "    def on_train_begin(self, logs={}):\n",
    "        self.all = {};\n",
    "        self.all['acc'] = [];\n",
    "        self.all['val_acc'] = [];\n",
    "        self.all['loss'] = [];\n",
    "        self.all['val_loss'] = [];\n",
    "        pass;\n",
    "    \n",
    "    def on_epoch_end(self, batch, logs={}):\n",
    "        self.all['acc'].append(logs['acc'])\n",
    "        self.all['val_acc'].append(logs['val_acc'])\n",
    "        self.all['loss'].append(logs['loss']);\n",
    "        self.all['val_loss'].append(logs['val_loss']);\n",
    "            \n",
    "        clear_output();\n",
    "        #notify_slack('Finished epoch ' + str(self.num) + ' with ' + str(logs));\n",
    "        plt.plot(self.all['acc'])\n",
    "        plt.plot(self.all['val_acc'])\n",
    "\n",
    "\n",
    "        plt.title('model accuracy')\n",
    "        plt.ylabel('accuracy')\n",
    "        plt.xlabel('epoch')\n",
    "        plt.legend(['train', 'test'], loc='upper left')\n",
    "\n",
    "        plt.show()\n",
    "        # summarize history for loss\n",
    "        plt.plot(self.all['loss'])\n",
    "        plt.plot(self.all['val_loss'])\n",
    "\n",
    "        plt.title('model loss')\n",
    "        plt.ylabel('loss')\n",
    "        plt.xlabel('epoch')\n",
    "        plt.legend(['train', 'test'], loc='upper left')\n",
    "\n",
    "        plt.show()"
   ]
  },
  {
   "cell_type": "code",
   "execution_count": null,
   "metadata": {},
   "outputs": [
    {
     "name": "stdout",
     "output_type": "stream",
     "text": [
      "Build model...\n",
      "Build model...\n"
     ]
    }
   ],
   "source": [
    "# build the model: a single LSTM\n",
    "def build_model(chars):\n",
    "    print('Build model...')\n",
    "    model = Sequential()\n",
    "    model.add(LSTM(128, input_shape=(None, char_len)))\n",
    "    model.add(Dense(char_len))\n",
    "    model.add(Activation('softmax'))\n",
    "    \n",
    "    optimizer = RMSprop(lr=0.0001)\n",
    "    model.compile(loss='categorical_crossentropy', optimizer=optimizer, metrics=['accuracy', 'mse', 'mae']);\n",
    "    return model\n",
    "\n",
    "english_model = build_model(english_chars)\n",
    "french_model = build_model(french_chars);"
   ]
  },
  {
   "cell_type": "code",
   "execution_count": null,
   "metadata": {},
   "outputs": [
    {
     "name": "stdout",
     "output_type": "stream",
     "text": [
      "Train on 2284 samples, validate on 571 samples\n",
      "Epoch 1/60\n",
      "2284/2284 [==============================] - 3s - loss: 3.7460 - acc: 0.0757 - mean_squared_error: 0.0227 - mean_absolute_error: 0.0454 - val_loss: 3.7323 - val_acc: 0.1208 - val_mean_squared_error: 0.0227 - val_mean_absolute_error: 0.0454\n",
      "Epoch 2/60\n",
      "2284/2284 [==============================] - 1s - loss: 3.7192 - acc: 0.1414 - mean_squared_error: 0.0227 - mean_absolute_error: 0.0454 - val_loss: 3.6993 - val_acc: 0.1664 - val_mean_squared_error: 0.0226 - val_mean_absolute_error: 0.0454\n",
      "Epoch 3/60\n",
      "2284/2284 [==============================] - 1s - loss: 3.6644 - acc: 0.1620 - mean_squared_error: 0.0226 - mean_absolute_error: 0.0453 - val_loss: 3.5918 - val_acc: 0.1629 - val_mean_squared_error: 0.0225 - val_mean_absolute_error: 0.0452\n",
      "Epoch 4/60\n",
      "2284/2284 [==============================] - 1s - loss: 3.3472 - acc: 0.1624 - mean_squared_error: 0.0221 - mean_absolute_error: 0.0445 - val_loss: 3.1210 - val_acc: 0.1629 - val_mean_squared_error: 0.0218 - val_mean_absolute_error: 0.0434\n",
      "Epoch 5/60\n",
      "2284/2284 [==============================] - 1s - loss: 3.0756 - acc: 0.1624 - mean_squared_error: 0.0217 - mean_absolute_error: 0.0433 - val_loss: 3.0436 - val_acc: 0.1629 - val_mean_squared_error: 0.0216 - val_mean_absolute_error: 0.0433\n",
      "Epoch 6/60\n",
      "2284/2284 [==============================] - 1s - loss: 3.0140 - acc: 0.1624 - mean_squared_error: 0.0216 - mean_absolute_error: 0.0433 - val_loss: 3.0038 - val_acc: 0.1629 - val_mean_squared_error: 0.0216 - val_mean_absolute_error: 0.0432\n",
      "Epoch 7/60\n",
      "2284/2284 [==============================] - 1s - loss: 2.9819 - acc: 0.1624 - mean_squared_error: 0.0216 - mean_absolute_error: 0.0432 - val_loss: 2.9819 - val_acc: 0.1629 - val_mean_squared_error: 0.0216 - val_mean_absolute_error: 0.0432\n",
      "Epoch 8/60\n",
      "2284/2284 [==============================] - 1s - loss: 2.9635 - acc: 0.1624 - mean_squared_error: 0.0216 - mean_absolute_error: 0.0432 - val_loss: 2.9680 - val_acc: 0.1629 - val_mean_squared_error: 0.0216 - val_mean_absolute_error: 0.0432\n",
      "Epoch 9/60\n",
      "2284/2284 [==============================] - 1s - loss: 2.9511 - acc: 0.1624 - mean_squared_error: 0.0216 - mean_absolute_error: 0.0432 - val_loss: 2.9569 - val_acc: 0.1629 - val_mean_squared_error: 0.0215 - val_mean_absolute_error: 0.0432\n",
      "Epoch 10/60\n",
      "2284/2284 [==============================] - 1s - loss: 2.9416 - acc: 0.1624 - mean_squared_error: 0.0216 - mean_absolute_error: 0.0432 - val_loss: 2.9484 - val_acc: 0.1629 - val_mean_squared_error: 0.0215 - val_mean_absolute_error: 0.0432\n",
      "Epoch 11/60\n",
      "2284/2284 [==============================] - 1s - loss: 2.9345 - acc: 0.1624 - mean_squared_error: 0.0215 - mean_absolute_error: 0.0432 - val_loss: 2.9431 - val_acc: 0.1629 - val_mean_squared_error: 0.0215 - val_mean_absolute_error: 0.0432\n",
      "Epoch 12/60\n",
      "2284/2284 [==============================] - 1s - loss: 2.9282 - acc: 0.1624 - mean_squared_error: 0.0215 - mean_absolute_error: 0.0432 - val_loss: 2.9381 - val_acc: 0.1629 - val_mean_squared_error: 0.0215 - val_mean_absolute_error: 0.0431\n",
      "Epoch 13/60\n",
      "2284/2284 [==============================] - 1s - loss: 2.9237 - acc: 0.1624 - mean_squared_error: 0.0215 - mean_absolute_error: 0.0431 - val_loss: 2.9341 - val_acc: 0.1629 - val_mean_squared_error: 0.0215 - val_mean_absolute_error: 0.0431\n",
      "Epoch 14/60\n",
      "2284/2284 [==============================] - 1s - loss: 2.9187 - acc: 0.1624 - mean_squared_error: 0.0215 - mean_absolute_error: 0.0431 - val_loss: 2.9311 - val_acc: 0.1629 - val_mean_squared_error: 0.0215 - val_mean_absolute_error: 0.0432\n",
      "Epoch 15/60\n",
      "2284/2284 [==============================] - 1s - loss: 2.9156 - acc: 0.1624 - mean_squared_error: 0.0215 - mean_absolute_error: 0.0432 - val_loss: 2.9272 - val_acc: 0.1629 - val_mean_squared_error: 0.0215 - val_mean_absolute_error: 0.0431\n",
      "Epoch 16/60\n",
      "2284/2284 [==============================] - 1s - loss: 2.9123 - acc: 0.1624 - mean_squared_error: 0.0215 - mean_absolute_error: 0.0431 - val_loss: 2.9241 - val_acc: 0.1629 - val_mean_squared_error: 0.0215 - val_mean_absolute_error: 0.0431\n",
      "Epoch 17/60\n",
      "2284/2284 [==============================] - 1s - loss: 2.9093 - acc: 0.1624 - mean_squared_error: 0.0215 - mean_absolute_error: 0.0431 - val_loss: 2.9203 - val_acc: 0.1629 - val_mean_squared_error: 0.0215 - val_mean_absolute_error: 0.0431\n",
      "Epoch 18/60\n",
      "2284/2284 [==============================] - 1s - loss: 2.9069 - acc: 0.1624 - mean_squared_error: 0.0215 - mean_absolute_error: 0.0431 - val_loss: 2.9185 - val_acc: 0.1629 - val_mean_squared_error: 0.0215 - val_mean_absolute_error: 0.0431\n",
      "Epoch 19/60\n",
      "2284/2284 [==============================] - 1s - loss: 2.9043 - acc: 0.1624 - mean_squared_error: 0.0215 - mean_absolute_error: 0.0431 - val_loss: 2.9187 - val_acc: 0.1629 - val_mean_squared_error: 0.0215 - val_mean_absolute_error: 0.0431\n",
      "Epoch 20/60\n",
      "2284/2284 [==============================] - 1s - loss: 2.9026 - acc: 0.1624 - mean_squared_error: 0.0215 - mean_absolute_error: 0.0431 - val_loss: 2.9164 - val_acc: 0.1629 - val_mean_squared_error: 0.0215 - val_mean_absolute_error: 0.0431\n",
      "Epoch 21/60\n",
      "2284/2284 [==============================] - 1s - loss: 2.9006 - acc: 0.1624 - mean_squared_error: 0.0215 - mean_absolute_error: 0.0431 - val_loss: 2.9148 - val_acc: 0.1629 - val_mean_squared_error: 0.0215 - val_mean_absolute_error: 0.0431\n",
      "Epoch 22/60\n",
      "2284/2284 [==============================] - 1s - loss: 2.8980 - acc: 0.1624 - mean_squared_error: 0.0215 - mean_absolute_error: 0.0431 - val_loss: 2.9138 - val_acc: 0.1629 - val_mean_squared_error: 0.0215 - val_mean_absolute_error: 0.0430\n",
      "Epoch 23/60\n",
      "2284/2284 [==============================] - 1s - loss: 2.8967 - acc: 0.1624 - mean_squared_error: 0.0215 - mean_absolute_error: 0.0431 - val_loss: 2.9125 - val_acc: 0.1629 - val_mean_squared_error: 0.0215 - val_mean_absolute_error: 0.0431\n",
      "Epoch 24/60\n",
      "2284/2284 [==============================] - 1s - loss: 2.8945 - acc: 0.1624 - mean_squared_error: 0.0215 - mean_absolute_error: 0.0431 - val_loss: 2.9117 - val_acc: 0.1629 - val_mean_squared_error: 0.0215 - val_mean_absolute_error: 0.0430\n",
      "Epoch 25/60\n",
      "2284/2284 [==============================] - 1s - loss: 2.8934 - acc: 0.1624 - mean_squared_error: 0.0215 - mean_absolute_error: 0.0430 - val_loss: 2.9102 - val_acc: 0.1629 - val_mean_squared_error: 0.0215 - val_mean_absolute_error: 0.0431\n",
      "Epoch 26/60\n",
      "2284/2284 [==============================] - 1s - loss: 2.8911 - acc: 0.1624 - mean_squared_error: 0.0215 - mean_absolute_error: 0.0431 - val_loss: 2.9095 - val_acc: 0.1629 - val_mean_squared_error: 0.0215 - val_mean_absolute_error: 0.0430\n",
      "Epoch 27/60\n",
      "2284/2284 [==============================] - 1s - loss: 2.8892 - acc: 0.1624 - mean_squared_error: 0.0215 - mean_absolute_error: 0.0431 - val_loss: 2.9077 - val_acc: 0.1629 - val_mean_squared_error: 0.0215 - val_mean_absolute_error: 0.0430\n",
      "Epoch 28/60\n",
      "2284/2284 [==============================] - 1s - loss: 2.8880 - acc: 0.1624 - mean_squared_error: 0.0215 - mean_absolute_error: 0.0431 - val_loss: 2.9068 - val_acc: 0.1629 - val_mean_squared_error: 0.0215 - val_mean_absolute_error: 0.0430\n",
      "Epoch 29/60\n",
      "2284/2284 [==============================] - 1s - loss: 2.8861 - acc: 0.1624 - mean_squared_error: 0.0215 - mean_absolute_error: 0.0430 - val_loss: 2.9073 - val_acc: 0.1629 - val_mean_squared_error: 0.0215 - val_mean_absolute_error: 0.0431\n",
      "Epoch 30/60\n",
      "2284/2284 [==============================] - 1s - loss: 2.8839 - acc: 0.1624 - mean_squared_error: 0.0214 - mean_absolute_error: 0.0430 - val_loss: 2.9026 - val_acc: 0.1629 - val_mean_squared_error: 0.0214 - val_mean_absolute_error: 0.0430\n",
      "Epoch 31/60\n",
      "1792/2284 [======================>.......] - ETA: 0s - loss: 2.8888 - acc: 0.1529 - mean_squared_error: 0.0215 - mean_absolute_error: 0.0431"
     ]
    }
   ],
   "source": [
    "history_english = english_model.fit(english_train_x, english_train_y,\n",
    "                    batch_size=128, epochs=60, validation_split=0.2, shuffle=True);\n",
    "history_french = french_model.fit(french_train_x, french_train_y,\n",
    "                    batch_size=128, epochs=60, validation_split=0.2, shuffle=True);"
   ]
  },
  {
   "cell_type": "code",
   "execution_count": 370,
   "metadata": {
    "collapsed": true
   },
   "outputs": [],
   "source": [
    "def random_generate(test_x, key):\n",
    "    labels = []\n",
    "    feats = []\n",
    "    if key == \"english\": \n",
    "        labels = [1 for i in range(100)]\n",
    "    elif key == 'french': \n",
    "        labels = [0 for i in range(100)]\n",
    "    else:\n",
    "        return feats, labels;\n",
    "    \n",
    "    for i in range(100): \n",
    "        r1 = randint(0, len(test_x) - 1)\n",
    "        ind = test_x[r1]\n",
    "        \n",
    "        r2 = randint(0, len(ind) - 5)\n",
    "        \n",
    "        sub_string = ind[r2:r2+5]\n",
    "        \n",
    "        feats.append(sub_string)\n",
    "        \n",
    "    return feats,labels\n",
    "    \n",
    "english_sample, english_labels = random_generate(english_test_x, 'english');\n",
    "french_sample, french_labels = random_generate(french_test_x, 'french');\n",
    "\n",
    "test_data = np.array(english_sample + french_sample);\n",
    "test_labels = np.array(english_labels + french_labels);"
   ]
  },
  {
   "cell_type": "code",
   "execution_count": 373,
   "metadata": {},
   "outputs": [
    {
     "data": {
      "image/png": "[encoded data removed]",
      "text/plain": [
       "<matplotlib.figure.Figure at 0x7fa519566860>"
      ]
     },
     "metadata": {},
     "output_type": "display_data"
    },
    {
     "data": {
      "image/png": "[encoded data removed]",
      "text/plain": [
       "<matplotlib.figure.Figure at 0x7fa5194f66d8>"
      ]
     },
     "metadata": {},
     "output_type": "display_data"
    }
   ],
   "source": [
    "# summarize history for accuracy\n",
    "plt.plot(history_english.history['acc'])\n",
    "plt.plot(history_english.history['val_acc'])\n",
    "\n",
    "plt.plot(history_french.history['acc'])\n",
    "plt.plot(history_french.history['val_acc'])\n",
    "\n",
    "plt.title('model accuracy')\n",
    "plt.ylabel('accuracy')\n",
    "plt.xlabel('epoch')\n",
    "plt.legend(['eng_train', 'eng_test', 'frn_train', 'frn_test'], loc='upper left')\n",
    "plt.savefig('accuracy_e_60___lr_0.001.png')\n",
    "\n",
    "plt.show()\n",
    "# summarize history for loss\n",
    "plt.plot(history_english.history['loss'])\n",
    "plt.plot(history_english.history['val_loss'])\n",
    "\n",
    "plt.plot(history_french.history['loss'])\n",
    "plt.plot(history_french.history['val_loss'])\n",
    "\n",
    "plt.title('model loss')\n",
    "plt.ylabel('loss')\n",
    "plt.xlabel('epoch')\n",
    "plt.legend(['eng_train', 'eng_test', 'frn_train', 'frn_test'], loc='upper left')\n",
    "plt.savefig('loss_e_60___lr_0.001.png')\n",
    "\n",
    "plt.show()"
   ]
  },
  {
   "cell_type": "code",
   "execution_count": 320,
   "metadata": {},
   "outputs": [],
   "source": [
    "def predict_on_sample(model, test_val):\n",
    "    start = np.zeros((1, 1, char_len), dtype=bool);\n",
    "    start_prob = model.predict(start);\n",
    "\n",
    "    next_vec = start.copy()[0][0];\n",
    "    probs = [];\n",
    "\n",
    "    probs.append(start_prob[0,np.argwhere(test_val[0])[0][0]]);\n",
    "\n",
    "    for idx, vec in enumerate(test_val):\n",
    "        next_vec = np.append(next_vec, vec).reshape(1, idx+2, char_len)\n",
    "        next_prob = model.predict(next_vec);\n",
    "\n",
    "        probs.append(next_prob[0, np.argwhere(test_val[idx])[0][0]]);\n",
    "        \n",
    "    return np.sum(np.log10(probs));"
   ]
  },
  {
   "cell_type": "code",
   "execution_count": 348,
   "metadata": {},
   "outputs": [],
   "source": [
    "english_preds = np.array([predict_on_sample(english_model_60, x) for x in test_data]);"
   ]
  },
  {
   "cell_type": "code",
   "execution_count": 349,
   "metadata": {},
   "outputs": [],
   "source": [
    "french_preds = np.array([predict_on_sample(french_model_60, x) for x in test_data]);"
   ]
  },
  {
   "cell_type": "code",
   "execution_count": 350,
   "metadata": {},
   "outputs": [],
   "source": [
    "ratio_probs = english_preds - french_preds;"
   ]
  },
  {
   "cell_type": "code",
   "execution_count": 351,
   "metadata": {},
   "outputs": [],
   "source": [
    "ratio_probs_labels = ratio_probs.copy();\n",
    "ratio_probs_labels[ratio_probs_labels >= 1] = 1;\n",
    "ratio_probs_labels[ratio_probs_labels < 1] = 0;"
   ]
  },
  {
   "cell_type": "code",
   "execution_count": 352,
   "metadata": {},
   "outputs": [
    {
     "data": {
      "text/plain": [
       "0.69999999999999996"
      ]
     },
     "execution_count": 352,
     "metadata": {},
     "output_type": "execute_result"
    }
   ],
   "source": [
    "roc_auc_score(test_labels, ratio_probs_labels)"
   ]
  },
  {
   "cell_type": "code",
   "execution_count": 353,
   "metadata": {},
   "outputs": [
    {
     "data": {
      "text/plain": [
       "0.69999999999999996"
      ]
     },
     "execution_count": 353,
     "metadata": {},
     "output_type": "execute_result"
    }
   ],
   "source": [
    "accuracy_score(test_labels, ratio_probs_labels)"
   ]
  },
  {
   "cell_type": "code",
   "execution_count": null,
   "metadata": {
    "collapsed": true
   },
   "outputs": [],
   "source": []
  }
 ],
 "metadata": {
  "kernelspec": {
   "display_name": "Python 3",
   "language": "python",
   "name": "python3"
  },
  "language_info": {
   "codemirror_mode": {
    "name": "ipython",
    "version": 3
   },
   "file_extension": ".py",
   "mimetype": "text/x-python",
   "name": "python",
   "nbconvert_exporter": "python",
   "pygments_lexer": "ipython3",
   "version": "3.5.2"
  }
 },
 "nbformat": 4,
 "nbformat_minor": 2
}
