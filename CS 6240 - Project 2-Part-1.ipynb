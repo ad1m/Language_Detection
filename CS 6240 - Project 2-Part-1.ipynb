{
 "cells": [
  {
   "cell_type": "markdown",
   "metadata": {},
   "source": [
    "<h1><center>LSTM Language Detection</center></h1>\n",
    "<h3><center>CSE 6240 - Websearch and Text Mining</center></h3>\n",
    "\n",
    "<h7><center>Adam Lieberman, Garrett Mallory, Ravish Chawla</center></h7>\n",
    "<h7><center>April 25, 2017</center></h7>"
   ]
  },
  {
   "cell_type": "markdown",
   "metadata": {},
   "source": [
    "<h4>Introduction:</h4>\n",
    "<p> In this project, we will be classifiying English and French text. We'll use a LSTM model to determine the probability of a text being either English or French and use a statistical method to determine the class of the text. We've included all the code here as well as some performance metrics at the end.</p>"
   ]
  },
  {
   "cell_type": "markdown",
   "metadata": {},
   "source": [
    "<h4> Imports & helper functions </h4>\n",
    "<p>Below are the modules used in this notebook:</p>"
   ]
  },
  {
   "cell_type": "code",
   "execution_count": 1,
   "metadata": {
    "collapsed": false
   },
   "outputs": [
    {
     "name": "stderr",
     "output_type": "stream",
     "text": [
      "Using TensorFlow backend.\n",
      "/home/ubuntu/.local/lib/python3.5/site-packages/sklearn/cross_validation.py:44: DeprecationWarning: This module was deprecated in version 0.18 in favor of the model_selection module into which all the refactored classes and functions are moved. Also note that the interface of the new CV iterators are different from that of this module. This module will be removed in 0.20.\n",
      "  \"This module will be removed in 0.20.\", DeprecationWarning)\n"
     ]
    }
   ],
   "source": [
    "from __future__ import print_function;\n",
    "import sys;\n",
    "import random;\n",
    "from random import randint\n",
    "\n",
    "import numpy as np;\n",
    "\n",
    "from keras.models import Sequential;\n",
    "from keras.layers import Dense, Activation;\n",
    "from keras.layers import LSTM;\n",
    "from keras.optimizers import RMSprop;\n",
    "from keras.utils.data_utils import get_file;\n",
    "from keras.models import load_model;\n",
    "\n",
    "from sklearn.cross_validation import train_test_split;\n",
    "from sklearn.metrics import *;\n",
    "from sklearn.externals import joblib;\n",
    "\n",
    "import matplotlib.pyplot as plt;\n",
    "from IPython.display import clear_output\n",
    "from keras.callbacks import ModelCheckpoint, Callback\n",
    "\n",
    "import subprocess;\n",
    "import h5py;"
   ]
  },
  {
   "cell_type": "markdown",
   "metadata": {},
   "source": [
    "<h4>Load Data:</h4>\n",
    "<p>Next, we will load in the English and French text, and lowercase the alphabet.</p>"
   ]
  },
  {
   "cell_type": "code",
   "execution_count": 2,
   "metadata": {
    "collapsed": false
   },
   "outputs": [
    {
     "name": "stdout",
     "output_type": "stream",
     "text": [
      "English corpus length: 10746\n",
      "French corpus length: 12009\n"
     ]
    }
   ],
   "source": [
    "english_text = open('data/eng.txt').read().lower()\n",
    "french_text = open('data/frn.txt').read().lower()\n",
    "\n",
    "print('English corpus length:', len(english_text))\n",
    "print('French corpus length:', len(french_text))"
   ]
  },
  {
   "cell_type": "markdown",
   "metadata": {},
   "source": [
    "<h4>Character Set and Dictionary:</h4>\n",
    "<p>We will obtain the Charachter map for both English and French by iterating over each single-letter string and adding it to a dictionary. We create both a forward-facing dictionary and an inverse-dictionary. The purpose of this dictionary is to map the features to the feature indices in our design matrix.</p>"
   ]
  },
  {
   "cell_type": "code",
   "execution_count": 3,
   "metadata": {
    "collapsed": true
   },
   "outputs": [],
   "source": [
    "english_chars = sorted(list(set(english_text)))\n",
    "french_chars = sorted(list(set(french_text)))\n",
    "\n",
    "english_char_map = dict((c, i) for i, c in enumerate(english_chars))\n",
    "french_char_map = dict((c, i) for i, c in enumerate(french_chars))\n",
    "\n",
    "english_char_map_inverse = dict((i, c) for i, c in enumerate(english_chars))\n",
    "french_char_map_inverse = dict((i, c) for i, c in enumerate(french_chars))"
   ]
  },
  {
   "cell_type": "markdown",
   "metadata": {},
   "source": [
    "<h4>Sentence Creation:</h4>\n",
    "<p>In the next step, we will create sentences from both English and French text in a rolling window of 40 charchters. These will be our features. After this step is complete, we will obtain a [x, 40] matrices, where each row will have length alphabet-size.</p>"
   ]
  },
  {
   "cell_type": "code",
   "execution_count": 5,
   "metadata": {
    "collapsed": false
   },
   "outputs": [
    {
     "name": "stdout",
     "output_type": "stream",
     "text": [
      "nb English sequences: 3569\n",
      "nb French sequences: 3990\n"
     ]
    }
   ],
   "source": [
    "maxlen = 40\n",
    "step = 3\n",
    "\n",
    "english_sentences = []\n",
    "english_next_chars = []\n",
    "for i in range(0, len(english_text) - maxlen, step):\n",
    "    english_sentences.append(english_text[i: i + maxlen])\n",
    "    english_next_chars.append(english_text[i + maxlen])\n",
    "\n",
    "french_sentences = []\n",
    "french_next_chars = []\n",
    "for i in range(0, len(french_text) - maxlen, step):\n",
    "    french_sentences.append(french_text[i: i + maxlen])\n",
    "    french_next_chars.append(french_text[i + maxlen])\n",
    "    \n",
    "print('nb English sequences:', len(english_sentences))\n",
    "print('nb French sequences:', len(french_sentences))"
   ]
  },
  {
   "cell_type": "markdown",
   "metadata": {},
   "source": [
    "<h4>Design Matrix Creation:</h4>\n",
    "<p>Now we will vectorize the above matrices by creating a design matrix. This will result in a [x, 40, max-alphabet-length] matrices for both English and French."
   ]
  },
  {
   "cell_type": "code",
   "execution_count": 6,
   "metadata": {
    "collapsed": false
   },
   "outputs": [
    {
     "name": "stdout",
     "output_type": "stream",
     "text": [
      "Vectorization...\n",
      "Finished!\n"
     ]
    }
   ],
   "source": [
    "print('Vectorization...')\n",
    "\n",
    "char_len = max(len(english_chars), len(french_chars));\n",
    "\n",
    "english_x = np.zeros((len(english_sentences), maxlen, char_len), dtype=np.bool)\n",
    "english_y = np.zeros((len(english_sentences), char_len), dtype=np.bool)\n",
    "for i, sentence in enumerate(english_sentences):\n",
    "    for t, char in enumerate(sentence):\n",
    "        english_x[i, t, english_char_map[char]] = 1\n",
    "    english_y[i, english_char_map[english_next_chars[i]]] = 1\n",
    "    \n",
    "    \n",
    "french_x = np.zeros((len(french_sentences), maxlen, char_len), dtype=np.bool)\n",
    "french_y = np.zeros((len(french_sentences), char_len), dtype=np.bool)\n",
    "for i, sentence in enumerate(french_sentences):\n",
    "    for t, char in enumerate(sentence):\n",
    "        french_x[i, t, french_char_map[char]] = 1\n",
    "    french_y[i, french_char_map[french_next_chars[i]]] = 1\n",
    "\n",
    "print(\"Finished!\")"
   ]
  },
  {
   "cell_type": "markdown",
   "metadata": {},
   "source": [
    "<h4>Train-test Split:</h4>\n",
    "<p>We need to obtain a Train/Test split from our data now. This allows us to obtain a random 20% subset of data for testing and the remaining for training.</p>"
   ]
  },
  {
   "cell_type": "code",
   "execution_count": 7,
   "metadata": {
    "collapsed": true
   },
   "outputs": [],
   "source": [
    "english_train_x, english_test_x, english_train_y, english_test_y = train_test_split(english_x, english_y, test_size=0.2, random_state=1024);\n",
    "french_train_x, french_test_x, french_train_y, french_test_y = train_test_split(french_x, french_y, test_size=0.2, random_state=1024);"
   ]
  },
  {
   "cell_type": "markdown",
   "metadata": {},
   "source": [
    "To check our results so far, let's print the shapes of our Training and testing matrices. As the results below show, both languages have [x, 40, 43] values for training, even though French has 41 total alphabet charachters. We see this because we pad the smaller language with 2 extra columns of all 0s, in order to make sure that our neural network can train properly on the same input shape."
   ]
  },
  {
   "cell_type": "code",
   "execution_count": 8,
   "metadata": {
    "collapsed": false
   },
   "outputs": [
    {
     "name": "stdout",
     "output_type": "stream",
     "text": [
      "English Shapes\n",
      "(2855, 40, 43)\n",
      "(2855, 43)\n",
      "(714, 40, 43)\n",
      "(714, 43)\n",
      "\n",
      "French Shapes\n",
      "(3192, 40, 43)\n",
      "(3192, 43)\n",
      "(798, 40, 43)\n",
      "(798, 43)\n"
     ]
    }
   ],
   "source": [
    "print('English Shapes');\n",
    "print(english_train_x.shape);\n",
    "print(english_train_y.shape);\n",
    "print(english_test_x.shape);\n",
    "print(english_test_y.shape);\n",
    "print()\n",
    "print('French Shapes');\n",
    "print(french_train_x.shape);\n",
    "print(french_train_y.shape);\n",
    "print(french_test_x.shape);\n",
    "print(french_test_y.shape);"
   ]
  },
  {
   "cell_type": "markdown",
   "metadata": {},
   "source": [
    "<h4>Generate Testing Data:</h4>\n",
    "<p>Having obtained the test split, we need to obtain a smaller sample of 100 strings of 5 length charachters each. We do this by using a Random number generator to select a random string each time, append it to our features array, along with the label associated with it.</p>"
   ]
  },
  {
   "cell_type": "code",
   "execution_count": 29,
   "metadata": {
    "collapsed": true
   },
   "outputs": [],
   "source": [
    "def random_generate(test_x, key):\n",
    "    labels = []\n",
    "    feats = []\n",
    "    if key == \"english\": \n",
    "        labels = [1 for i in range(100)]\n",
    "    elif key == 'french': \n",
    "        labels = [0 for i in range(100)]\n",
    "    else:\n",
    "        return feats, labels;\n",
    "    \n",
    "    for i in range(100): \n",
    "        r1 = randint(0, len(test_x) - 1)\n",
    "        ind = test_x[r1]\n",
    "        \n",
    "        r2 = randint(0, len(ind) - 5)\n",
    "        \n",
    "        sub_string = ind[r2:r2+5]\n",
    "        \n",
    "        feats.append(sub_string)\n",
    "        \n",
    "    return feats,labels\n",
    "    \n",
    "english_sample, english_labels = random_generate(english_test_x, 'english');\n",
    "french_sample, french_labels = random_generate(french_test_x, 'french');\n",
    "\n",
    "test_data = np.array(english_sample + french_sample);\n",
    "test_labels = np.array(english_labels + french_labels);"
   ]
  },
  {
   "cell_type": "markdown",
   "metadata": {},
   "source": [
    "<h4>LSTM Model Creation:</h4>\n",
    "<p>Now that we have obtained our data for training and testing, we will build a LSTM model. To do this, we will create a function that will build a Sequential LSTM model. The parameters for the model below have been tuned after testing multiple configurations with over 60 epochs each. We settled on using 256 Neurons on the LSTM layer, with a RMSProp optimizer using 0.01 Learning rate. We will show our results on how we obtained these values later.</p>"
   ]
  },
  {
   "cell_type": "code",
   "execution_count": 10,
   "metadata": {
    "collapsed": true
   },
   "outputs": [],
   "source": [
    "def build_model(chars):\n",
    "    print('Build model...')\n",
    "    model = Sequential()\n",
    "    model.add(LSTM(256, input_shape=(None, char_len)))\n",
    "    model.add(Dense(char_len))\n",
    "    model.add(Activation('softmax'))\n",
    "    \n",
    "    optimizer = RMSprop(lr=0.01)\n",
    "    model.compile(loss='categorical_crossentropy', optimizer=optimizer, metrics=['accuracy']);\n",
    "    return model"
   ]
  },
  {
   "cell_type": "markdown",
   "metadata": {},
   "source": [
    "To do a prediction on our data, we will use a log of probabilities over each charachter in a string. We will iterate over each charachter, obtain the vector associated with it along with the previous START charachters, and obtain the prediction score for it on the next charachter. Finally, we sum up the logs of these values and return it."
   ]
  },
  {
   "cell_type": "code",
   "execution_count": 12,
   "metadata": {
    "collapsed": true
   },
   "outputs": [],
   "source": [
    "def predict_on_sample(model, test_val):\n",
    "    start = np.zeros((1, 1, char_len), dtype=bool);\n",
    "    start_prob = model.predict(start);\n",
    "\n",
    "    next_vec = start.copy()[0][0];\n",
    "    probs = [];\n",
    "\n",
    "    probs.append(start_prob[0,np.argwhere(test_val[0])[0][0]]);\n",
    "\n",
    "    for idx, vec in enumerate(test_val):\n",
    "        next_vec = np.append(next_vec, vec).reshape(1, idx+2, char_len)\n",
    "        next_prob = model.predict(next_vec);\n",
    "\n",
    "        probs.append(next_prob[0, np.argwhere(test_val[idx])[0][0]]);\n",
    "        \n",
    "    return np.sum(np.log(probs));"
   ]
  },
  {
   "cell_type": "markdown",
   "metadata": {},
   "source": [
    "Using the above function, we can predict the results on each test string. To do this, we pass in the string along with both the English model and the French model, obtain the probabilities, and compute the GLRT. The ratio gives us a vector of probability scores, in which we set all values >= 1 to 1, and otherwise 0. The ROC score is computed on these values."
   ]
  },
  {
   "cell_type": "code",
   "execution_count": 58,
   "metadata": {
    "collapsed": true
   },
   "outputs": [],
   "source": [
    "def predict_results(english_model, french_model):\n",
    "    english_preds = np.array([predict_on_sample(english_model, x) for x in test_data]);\n",
    "    french_preds = np.array([predict_on_sample(french_model, x) for x in test_data]);\n",
    "    ratio_probs = english_preds - french_preds;\n",
    "        \n",
    "    fpr, tpr, _ = roc_curve(test_labels, ratio_probs);\n",
    "    roc_auc = auc(fpr, tpr);\n",
    "    \n",
    "    print(roc_auc);\n",
    "\n",
    "    return roc_auc, fpr, tpr;"
   ]
  },
  {
   "cell_type": "markdown",
   "metadata": {},
   "source": [
    "We write another function now to plot the ROC AUC curve. We will use this function later when we obtain predictions."
   ]
  },
  {
   "cell_type": "code",
   "execution_count": 127,
   "metadata": {
    "collapsed": true
   },
   "outputs": [],
   "source": [
    "def plot_roc_auc_curve(fpr, tpr, roc_auc, title): \n",
    "    plt.figure()\n",
    "    lw = 2\n",
    "    plt.semilogx(fpr, tpr, color='darkorange',\n",
    "         lw=lw, label='ROC curve (area = %0.2f)' % roc_auc)\n",
    "    plt.semilogx([np.min(fpr[fpr != 0]),1], [np.min(fpr[fpr != 0]), 1], color='navy', lw=lw, linestyle='--')\n",
    "    plt.xlim([0.0, 1.0])\n",
    "    plt.ylim([0.0, 1.05])\n",
    "    plt.xlabel('False Positive Rate')\n",
    "    plt.ylabel('True Positive Rate')\n",
    "    plt.title('Receiver operating characteristic for ' + title)\n",
    "    plt.legend(loc=\"lower right\")\n",
    "    plt.show()"
   ]
  },
  {
   "cell_type": "markdown",
   "metadata": {},
   "source": [
    "<h4>Hyperparameter Tuning:</h4>\n",
    "<p> In order to do hyperparameter search, we wrote a function called train_and_predict(). We cycle though a set range of epochs and evaluate the model quality as the iterations increase. We then take the best performing model.</p>\n",
    "\n",
    "<p>Other hyperparameters tuned are the learning rate, decay rate, batch sizes used in training, and size of the LSTM layer. Some of these we tuned manually rather than create a automated function for it. Finally, we found that the best performance is given by epochs=8, learning rate=0.01, decay=0.0, layer_size=256.</p>\n",
    "\n",
    "<p>Below we display graphs showing the loss vs. epochs and accuracy vs. epochs for learning rate 0.01 as a demonstration of our parameter selection process.</p>\n",
    "<center><img src=\"http://i.imgur.com/7QhIXwl.jpg\"></center>\n",
    "<center><img src=\"http://i.imgur.com/XyPN1xj.jpg\"></center>\n"
   ]
  },
  {
   "cell_type": "code",
   "execution_count": 43,
   "metadata": {
    "collapsed": true
   },
   "outputs": [],
   "source": [
    "def train_and_predict(total_epochs, step_size = 3, batch_size=2512):\n",
    "    english_model = build_model(english_chars)\n",
    "    french_model = build_model(french_chars);\n",
    "    epochs_ran = 0;\n",
    "\n",
    "    for i in range(0, total_epochs, step_size):\n",
    "        history_english = english_model.fit(english_train_x, english_train_y,\n",
    "                            batch_size=batch_size, epochs=step_size, shuffle=True);\n",
    "        history_french = french_model.fit(french_train_x, french_train_y,\n",
    "                            batch_size=batch_size, epochs=step_size, shuffle=True);\n",
    "\n",
    "        \n",
    "        epochs_ran = epochs_ran + step_size;\n",
    "        \n",
    "        roc = predict_results(english_model, french_model);\n",
    "        \n",
    "        if epochs_ran >= total_epochs:\n",
    "            break;\n",
    "            \n",
    "    return [english_model, french_model, roc];"
   ]
  },
  {
   "cell_type": "markdown",
   "metadata": {},
   "source": [
    "<h4>Building LSTM Model</h4>\n",
    "<p>We call our function and set 5 epochs with a step size of 5 and optimal batch size of 2512.</p>"
   ]
  },
  {
   "cell_type": "code",
   "execution_count": 44,
   "metadata": {
    "collapsed": false,
    "scrolled": true
   },
   "outputs": [
    {
     "name": "stdout",
     "output_type": "stream",
     "text": [
      "Build model...\n",
      "Build model...\n",
      "Epoch 1/5\n",
      "2855/2855 [==============================] - 3s - loss: 3.7206 - acc: 0.0221     \n",
      "Epoch 2/5\n",
      "2855/2855 [==============================] - 2s - loss: 5.3884 - acc: 0.1426     \n",
      "Epoch 3/5\n",
      "2855/2855 [==============================] - 2s - loss: 4.2558 - acc: 0.0676     \n",
      "Epoch 4/5\n",
      "2855/2855 [==============================] - 2s - loss: 3.5550 - acc: 0.1625     \n",
      "Epoch 5/5\n",
      "2855/2855 [==============================] - 2s - loss: 3.4811 - acc: 0.0550     \n",
      "Epoch 1/5\n",
      "3192/3192 [==============================] - 3s - loss: 3.8357 - acc: 0.0711     \n",
      "Epoch 2/5\n",
      "3192/3192 [==============================] - 2s - loss: 3.4972 - acc: 0.0655     \n",
      "Epoch 3/5\n",
      "3192/3192 [==============================] - 2s - loss: 4.1910 - acc: 0.1103     \n",
      "Epoch 4/5\n",
      "3192/3192 [==============================] - 2s - loss: 3.0199 - acc: 0.0840     \n",
      "Epoch 5/5\n",
      "3192/3192 [==============================] - 2s - loss: 2.9137 - acc: 0.1732     \n",
      "0.7948\n"
     ]
    }
   ],
   "source": [
    "models_1 = train_and_predict(5, 5, 2512)"
   ]
  },
  {
   "cell_type": "markdown",
   "metadata": {},
   "source": [
    "<h4>Building LSTM Model</h4>\n",
    "<p>After training on 5 epochs, we retrain on 12 epochs with a step size of 3 epochs for our predictions. We've done this to increase ROC and experiement with parameter tuning over our previous test.</p>"
   ]
  },
  {
   "cell_type": "code",
   "execution_count": 45,
   "metadata": {
    "collapsed": false,
    "scrolled": true
   },
   "outputs": [
    {
     "name": "stdout",
     "output_type": "stream",
     "text": [
      "Build model...\n",
      "Build model...\n",
      "Epoch 1/3\n",
      "2855/2855 [==============================] - 3s - loss: 3.8244 - acc: 0.0319     \n",
      "Epoch 2/3\n",
      "2855/2855 [==============================] - 2s - loss: 3.8091 - acc: 0.0501     \n",
      "Epoch 3/3\n",
      "2855/2855 [==============================] - 2s - loss: 4.0902 - acc: 0.0630     \n",
      "Epoch 1/3\n",
      "3192/3192 [==============================] - 4s - loss: 3.6929 - acc: 0.0592     \n",
      "Epoch 2/3\n",
      "3192/3192 [==============================] - 2s - loss: 4.6424 - acc: 0.1419     \n",
      "Epoch 3/3\n",
      "3192/3192 [==============================] - 2s - loss: 4.5772 - acc: 0.0617     \n",
      "0.8456\n",
      "Epoch 1/3\n",
      "2855/2855 [==============================] - 2s - loss: 3.1018 - acc: 0.1625     \n",
      "Epoch 2/3\n",
      "2855/2855 [==============================] - 2s - loss: 3.0159 - acc: 0.1541     \n",
      "Epoch 3/3\n",
      "2855/2855 [==============================] - 2s - loss: 3.0308 - acc: 0.1625     \n",
      "Epoch 1/3\n",
      "3192/3192 [==============================] - 2s - loss: 3.7905 - acc: 0.1604     \n",
      "Epoch 2/3\n",
      "3192/3192 [==============================] - 2s - loss: 3.7677 - acc: 0.1554     \n",
      "Epoch 3/3\n",
      "3192/3192 [==============================] - 2s - loss: 3.7589 - acc: 0.1560     \n",
      "0.8479\n",
      "Epoch 1/3\n",
      "2855/2855 [==============================] - 2s - loss: 3.0133 - acc: 0.1625     \n",
      "Epoch 2/3\n",
      "2855/2855 [==============================] - 2s - loss: 2.9974 - acc: 0.1604     \n",
      "Epoch 3/3\n",
      "2855/2855 [==============================] - 2s - loss: 2.9674 - acc: 0.1625     \n",
      "Epoch 1/3\n",
      "3192/3192 [==============================] - 2s - loss: 3.6747 - acc: 0.1538     \n",
      "Epoch 2/3\n",
      "3192/3192 [==============================] - 2s - loss: 3.7156 - acc: 0.1441     \n",
      "Epoch 3/3\n",
      "3192/3192 [==============================] - 2s - loss: 3.7864 - acc: 0.1444     \n",
      "0.865\n",
      "Epoch 1/3\n",
      "2855/2855 [==============================] - 2s - loss: 2.9449 - acc: 0.1653     \n",
      "Epoch 2/3\n",
      "2855/2855 [==============================] - 2s - loss: 2.9600 - acc: 0.1520     \n",
      "Epoch 3/3\n",
      "2855/2855 [==============================] - 2s - loss: 3.0080 - acc: 0.1891     \n",
      "Epoch 1/3\n",
      "3192/3192 [==============================] - 2s - loss: 3.7089 - acc: 0.1598     \n",
      "Epoch 2/3\n",
      "3192/3192 [==============================] - 2s - loss: 3.6826 - acc: 0.1526     \n",
      "Epoch 3/3\n",
      "3192/3192 [==============================] - 2s - loss: 3.7564 - acc: 0.1507     \n",
      "0.8629\n"
     ]
    }
   ],
   "source": [
    "models_2 = train_and_predict(12, 3, 2512)"
   ]
  },
  {
   "cell_type": "markdown",
   "metadata": {},
   "source": [
    "Because there was a lot of variability in the model performance, we decided to rerun these cells multiple times and save the best performing model. We use this top model though our ROC varies between 0.65 and 0.95. "
   ]
  },
  {
   "cell_type": "code",
   "execution_count": 75,
   "metadata": {
    "collapsed": true
   },
   "outputs": [],
   "source": [
    "models_1[3][0].save('model_current_e.h5')\n",
    "models_1[3][1].save('model_current_f.h5')"
   ]
  },
  {
   "cell_type": "code",
   "execution_count": 25,
   "metadata": {
    "collapsed": true
   },
   "outputs": [],
   "source": [
    "model_1 = load_model('model_current_e.h5')\n",
    "model_2 = load_model('model_current_f.h5')"
   ]
  },
  {
   "cell_type": "markdown",
   "metadata": {},
   "source": [
    "<h4>ROC Prediction:</h4>\n",
    "\n",
    "Let's obtain the ROC, False Positive Rates, and True Positive Rates, and use them to plot a ROC AUC curve."
   ]
  },
  {
   "cell_type": "code",
   "execution_count": 64,
   "metadata": {
    "collapsed": false
   },
   "outputs": [
    {
     "name": "stdout",
     "output_type": "stream",
     "text": [
      "0.9476\n"
     ]
    }
   ],
   "source": [
    "roc, fpr, tpr = predict_results(model_1, model_2);"
   ]
  },
  {
   "cell_type": "markdown",
   "metadata": {},
   "source": [
    "We see around a 0.95 ROC value, which is very good. We will now plot the curve with these values as well."
   ]
  },
  {
   "cell_type": "code",
   "execution_count": 128,
   "metadata": {
    "collapsed": false
   },
   "outputs": [
    {
     "data": {
      "image/png": "[encoded data removed]",
      "text/plain": [
       "<matplotlib.figure.Figure at 0x7efd79025ef0>"
      ]
     },
     "metadata": {},
     "output_type": "display_data"
    }
   ],
   "source": [
    "plot_roc_auc_curve(fpr, tpr, roc, 'English/French Classification')"
   ]
  },
  {
   "cell_type": "markdown",
   "metadata": {},
   "source": [
    "<h4>Questions:</h4>"
   ]
  }
 ],
 "metadata": {
  "kernelspec": {
   "display_name": "Python 3",
   "language": "python",
   "name": "python3"
  },
  "language_info": {
   "codemirror_mode": {
    "name": "ipython",
    "version": 3
   },
   "file_extension": ".py",
   "mimetype": "text/x-python",
   "name": "python",
   "nbconvert_exporter": "python",
   "pygments_lexer": "ipython3",
   "version": "3.5.2"
  }
 },
 "nbformat": 4,
 "nbformat_minor": 2
}
